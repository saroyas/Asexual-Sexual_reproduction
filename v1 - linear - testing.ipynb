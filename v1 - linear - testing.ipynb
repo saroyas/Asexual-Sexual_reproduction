{
 "cells": [
  {
   "cell_type": "code",
   "execution_count": 5,
   "outputs": [],
   "source": [
    "#SESSION PURPOSE: DATA GENERATION FOR VISUALIZATION\n",
    "\n",
    "import random\n",
    "import pickle\n",
    "import numpy as np\n",
    "import matplotlib.pyplot as plt\n",
    "from mpl_toolkits.mplot3d import Axes3D\n",
    "import json\n"
   ],
   "metadata": {
    "collapsed": false,
    "pycharm": {
     "name": "#%%\n",
     "is_executing": false
    }
   }
  },
  {
   "cell_type": "code",
   "execution_count": 6,
   "outputs": [],
   "source": [
    "def fitness_landscape(organism_column):\n",
    "    if control == 1:\n",
    "        fitness_value_for_organism = 1\n",
    "    else:\n",
    "        fitness_value_for_organism = np.sum(organism_column)\n",
    "    return fitness_value_for_organism\n"
   ],
   "metadata": {
    "collapsed": false,
    "pycharm": {
     "name": "#%%\n",
     "is_executing": false
    }
   }
  },
  {
   "cell_type": "code",
   "execution_count": 7,
   "outputs": [],
   "source": [
    "class world():\n",
    "    def __init__(self, population_size, loci, gene_mean, gene_sd, proportion_asexual,\n",
    "                 organism_capacity_percentage_of_initial_pop, asex_repl_ratio, sex_repl_ratio, mutation_prob):\n",
    "        self.population_size = population_size\n",
    "        self.loci = loci\n",
    "        self.ones = np.ones(loci)\n",
    "        self.organism_capacity = int(organism_capacity_percentage_of_initial_pop * population_size)\n",
    "        self.asex_repl_ratio = asex_repl_ratio\n",
    "        self.sex_repl_ratio = sex_repl_ratio\n",
    "        self.total_pop_mat = (np.random.normal(gene_mean, gene_sd, (loci, self.population_size))).astype(int)\n",
    "        self.separator = int(self.population_size * proportion_asexual)  # To indicate where the asex ends and sex begins\n",
    "        self.mutation_prob = mutation_prob\n",
    "        self.iter_num = 0\n",
    "        self.plotting_data = {}\n",
    "        self.add_to_plot_data()\n",
    "        \n",
    "    def add_to_plot_data(self):\n",
    "        species = {}\n",
    "        species['asex'] = (self.total_pop_mat[:, :self.separator]).tolist()\n",
    "        species['sex'] = (self.total_pop_mat[:, self.separator:]).tolist()\n",
    "        self.plotting_data[self.iter_num] = species\n",
    "        self.iter_num += 1\n",
    "\n",
    "    def population_sizes(self, total=False, asex=False, sex=False):\n",
    "        if total == True:\n",
    "            return self.total_pop_mat.shape[1]\n",
    "        if asex == True:\n",
    "            return self.asex_pop_mat.shape[1]\n",
    "        if sex == True:\n",
    "            return self.sex_pop_mat.shape[1]\n",
    "\n",
    "    def mutation_stage(self, step=1):\n",
    "        shape = self.total_pop_mat.shape\n",
    "        half_mutation_prob = self.mutation_prob/2\n",
    "        mutation_matrix = np.random.choice([-step, 0, step], size=shape, p=[self.mutation_prob, 1 - self.mutation_prob - half_mutation_prob, half_mutation_prob])\n",
    "        self.total_pop_mat = self.total_pop_mat + mutation_matrix\n",
    "\n",
    "    def calc_fitness_array(self, population=0):\n",
    "        if population == 0:\n",
    "            population = self.total_pop_mat\n",
    "        return np.apply_along_axis(fitness_landscape, 0, population)\n",
    "\n",
    "    def species_fitness_statistics(self):\n",
    "        self.fitness_array = self.calc_fitness_array()\n",
    "        asex_fitness_array = self.fitness_array[:self.separator]\n",
    "        asex_avg = np.average(asex_fitness_array)\n",
    "        asex_std = np.std(asex_fitness_array)\n",
    "        sex_fitness_array = self.fitness_array[self.separator:]\n",
    "        sex_avg = np.average(sex_fitness_array)\n",
    "        sex_std = np.std(sex_fitness_array)\n",
    "        return asex_avg, asex_std, sex_avg, sex_std\n",
    "\n",
    "    def survival_probability(self):\n",
    "        # For now we make survival probability simply proportionate to\n",
    "        # the fitness value. This is fine, and moves all the subtlety to the fitness landscape.\n",
    "        self.fitness_array = self.calc_fitness_array()\n",
    "        total_fitness = np.sum(self.fitness_array)\n",
    "        prop_fitness = np.divide(self.fitness_array, total_fitness)\n",
    "        return prop_fitness\n",
    "\n",
    "    def survival_stage(self):\n",
    "        curr_population_index = range(self.population_sizes(total=True))\n",
    "        prop_fitness = self.survival_probability()\n",
    "        # The following step may be a serious computational time issue\n",
    "        survivor_list = np.random.choice(curr_population_index, self.organism_capacity, replace=False, p=prop_fitness)\n",
    "        self.total_pop_mat = (self.total_pop_mat)[:, survivor_list]\n",
    "        self.separator = np.size(np.where(survivor_list < self.separator))\n",
    "\n",
    "        # For efficiencies sake, if we need it in replication stage, we should consider\n",
    "        # updating the fitness array here, and so not calculating it in the replication stage\n",
    "        # but currently replication isn't dependent on fitness\n",
    "        # self.fitness_array = self.fitness_array[survivor_list]\n",
    "\n",
    "    def asex_replication_stage(self):\n",
    "        current_organism_index = np.arange(self.separator)\n",
    "        next_gen_size = int(self.separator * self.asex_repl_ratio)\n",
    "        next_gen_chosen = np.random.choice(current_organism_index, size=next_gen_size, replace=True)\n",
    "        self.asex_pop_mat = self.asex_pop_mat[:, next_gen_chosen]\n",
    "\n",
    "    def sexual_recombination(self):\n",
    "        current_organism_index = np.arange(self.population_sizes(sex=True))\n",
    "        next_gen_size = int(self.population_sizes(sex=True) * self.sex_repl_ratio)\n",
    "        next_gen_chosen = np.random.choice(current_organism_index, size=next_gen_size, replace=True)\n",
    "        chosen_orgs = self.sex_pop_mat[:, next_gen_chosen]\n",
    "        for i in range(self.loci):\n",
    "            np.random.shuffle(chosen_orgs[i])\n",
    "        self.sex_pop_mat = chosen_orgs\n",
    "\n",
    "    def sexual_replication(self):\n",
    "        total_sex_pop = self.population_sizes(sex=True)\n",
    "        current_organism_index = np.arange(total_sex_pop)\n",
    "        next_gen_size = int(total_sex_pop * self.sex_repl_ratio)\n",
    "\n",
    "        def chosen_pairs():\n",
    "            rounds = int(2 * next_gen_size / total_sex_pop) + 1\n",
    "            mating_pairs = []\n",
    "            for round in range(rounds):\n",
    "                np.random.shuffle(current_organism_index)\n",
    "                pairs = zip(current_organism_index[::2], current_organism_index[1::2])\n",
    "                mating_pairs += pairs\n",
    "            return mating_pairs[:next_gen_size]\n",
    "\n",
    "        chosen_pairs = chosen_pairs()  # list of 2-tuples to be replicated\n",
    "\n",
    "        def mate_pairs():\n",
    "            next_gen = []\n",
    "            for pair in chosen_pairs:\n",
    "                parent_1, parent_2 = pair\n",
    "                parent_1_gene_index = np.random.randint(2, size=(self.loci))\n",
    "                parent_1_genes = np.reshape(np.multiply(self.sex_pop_mat[:, parent_1], parent_1_gene_index), self.loci)\n",
    "                parent_2_gene_index = self.ones - parent_1_gene_index\n",
    "                parent_2_genes = np.reshape(np.multiply(self.sex_pop_mat[:, parent_2], parent_2_gene_index), self.loci)\n",
    "                child = np.add(parent_1_genes, parent_2_genes)\n",
    "                next_gen.append(child)\n",
    "            return np.transpose(np.asarray(next_gen))\n",
    "\n",
    "        # CHECK THE TRANSPOSE STATEMENT IN THE LINE ABOVE\n",
    "        self.sex_pop_mat = mate_pairs()\n",
    "\n",
    "    def pop_size_preserving_repl_rates(self):\n",
    "        current_pop_size = self.population_sizes(total=True)\n",
    "        ratio = self.population_size / current_pop_size\n",
    "        self.sex_repl_ratio, self.asex_repl_ratio = ratio, ratio\n",
    "\n",
    "    def replication_stage(self, pop_size_preserving=True):\n",
    "        def gen_sex_asex_matrices(self):\n",
    "            return self.total_pop_mat[:, :self.separator], self.total_pop_mat[:, self.separator:]\n",
    "\n",
    "        self.asex_pop_mat, self.sex_pop_mat = gen_sex_asex_matrices(self)\n",
    "        if pop_size_preserving == True:\n",
    "            self.pop_size_preserving_repl_rates()\n",
    "        self.asex_replication_stage()\n",
    "        self.sexual_recombination()\n",
    "        #self.sexual_replication()\n",
    "        # REGENERATE THE TOTAL POP MATRIX:\n",
    "        self.total_pop_mat = np.concatenate([self.asex_pop_mat, self.sex_pop_mat], axis=1)\n",
    "        self.separator = self.asex_pop_mat.shape[1]\n",
    "\n",
    "    def iteration(self, post_text=False, pre_text=False, avg_fitness=False):\n",
    "        if pre_text == True:\n",
    "            print('Pre Sexual size: ', self.population_sizes(sex=True))\n",
    "            print('Pre Asexual Pop Size: ', self.population_sizes(asex=True))\n",
    "        self.mutation_stage()\n",
    "        self.add_to_plot_data()\n",
    "        self.survival_stage()\n",
    "        self.add_to_plot_data()\n",
    "        if avg_fitness == True:\n",
    "            asex_avg, asex_std, sex_avg, sex_std = self.species_fitness_statistics()\n",
    "            print('ASEX AVG FITNESS: ', asex_avg, ' std', asex_std)\n",
    "            print('SEX AVG FITNESS:', sex_avg, 'std', sex_std)\n",
    "        self.replication_stage(pop_size_preserving=True)\n",
    "        self.add_to_plot_data()\n",
    "        if post_text == True:\n",
    "            print('----------------------------------')\n",
    "            print('Post Sexual size: ', self.population_sizes(sex=True))\n",
    "            print('Post Asexual Pop Size: ', self.population_sizes(asex=True))\n",
    "            print('Post Total Pop Size: ', self.population_sizes(total=True))\n",
    "\n",
    "    def top_10_perc_asex(self):\n",
    "        fitness_array = self.calc_fitness_array()\n",
    "        pop_size = len(fitness_array)\n",
    "        num_10_perc = int(len(fitness_array) * 0.1)\n",
    "        top_positions = np.argsort(fitness_array)[-num_10_perc:]\n",
    "        print(np.shape(np.where(top_positions < self.separator)))\n",
    "        num_asex = np.shape(np.where(top_positions < self.separator))[1]\n",
    "        percent_top_asex = num_asex / num_10_perc\n",
    "        perc_population = self.separator / pop_size\n",
    "        return percent_top_asex, perc_population\n",
    "\n",
    "    def plot_loci_3d(self, fitness=False, proportions=False):\n",
    "        fig = plt.figure()\n",
    "        ax = fig.add_subplot(111, projection='3d')\n",
    "        if fitness == True:\n",
    "            fitness_array = self.calc_fitness_array()\n",
    "            fitness_array.shape = (1, len(fitness_array))\n",
    "            total_pop_2d = self.total_pop_mat[:2, :]\n",
    "            plot_3d = np.concatenate((total_pop_2d, fitness_array), 0)\n",
    "        elif proportions == True:\n",
    "            prop_fitness = self.survival_probability()\n",
    "            prop_fitness.shape = (1, len(prop_fitness))\n",
    "            total_pop_2d = self.total_pop_mat[:2, :]\n",
    "            plot_3d = np.concatenate((total_pop_2d, prop_fitness), 0)\n",
    "        else:\n",
    "            # total_pop_3d:\n",
    "            plot_3d = self.total_pop_mat[:3, :]\n",
    "        asex_3d = plot_3d[:, :self.separator]\n",
    "        sex_3d = plot_3d[:, self.separator:]\n",
    "        for m, species in [('o', asex_3d), ('v', sex_3d)]:  # ('o', asex_3d),\n",
    "            xs = species[0, :]\n",
    "            ys = species[1, :]\n",
    "            zs = species[2, :]\n",
    "            ax.scatter(xs, ys, zs, marker=m)\n",
    "        ax.set_xlabel('Loci 0')\n",
    "        ax.set_ylabel('Loci 1')\n",
    "        if fitness == True:\n",
    "            ax.set_zlabel('Fitness')\n",
    "        else:\n",
    "            ax.set_zlabel('Loci 2')\n",
    "\n",
    "        plt.show()\n"
   ],
   "metadata": {
    "collapsed": false,
    "pycharm": {
     "name": "#%%\n",
     "is_executing": false
    }
   }
  },
  {
   "cell_type": "code",
   "execution_count": 8,
   "outputs": [
    {
     "name": "stdout",
     "text": [
      "world iteration:  0\nASEX AVG FITNESS:  1.0  std 0.0\nSEX AVG FITNESS: 1.0 std 0.0\n----------------------------------\nPost Sexual size:  1014\nPost Asexual Pop Size:  986\nPost Total Pop Size:  2000\nINTER ITERATION: SEX: 0 ASEX: 0\n",
      "ASEX AVG FITNESS:  1.0  std 0.0\nSEX AVG FITNESS: 1.0 std 0.0\n----------------------------------\nPost Sexual size:  1376\nPost Asexual Pop Size:  624\nPost Total Pop Size:  2000\nINTER ITERATION: SEX: 0 ASEX: 0\n",
      "ASEX AVG FITNESS:  1.0  std 0.0\nSEX AVG FITNESS: 1.0 std 0.0\n----------------------------------\nPost Sexual size:  934\nPost Asexual Pop Size:  1066\nPost Total Pop Size:  2000\nINTER ITERATION: SEX: 0 ASEX: 0\n",
      "ASEX AVG FITNESS:  1.0  std 0.0\nSEX AVG FITNESS: 1.0 std 0.0\n----------------------------------\nPost Sexual size:  724\nPost Asexual Pop Size:  1276\nPost Total Pop Size:  2000\nINTER ITERATION: SEX: 0 ASEX: 0\n",
      "ASEX AVG FITNESS:  1.0  std 0.0\nSEX AVG FITNESS: 1.0 std 0.0\n----------------------------------\nPost Sexual size:  466\nPost Asexual Pop Size:  1534\nPost Total Pop Size:  2000\nINTER ITERATION: SEX: 0 ASEX: 0\n",
      "SEX: 0 ASEX: 1\n"
     ],
     "output_type": "stream"
    }
   ],
   "source": [
    "sexual_success = 0\n",
    "asexual_success = 0\n",
    "num_iterations = int(input('How many worlds are to be created:'))\n",
    "control = int(input('Input 1 : We run as control, (uniform fitness)'))\n",
    "print_frequency = int(input('Print frequency of update information'))\n",
    "super_plotting_data = {}\n",
    "for i in range(num_iterations):\n",
    "    statistics_per_world = []\n",
    "    print('world iteration: ', i)\n",
    "    population_size = 2000\n",
    "    gia = world(population_size, 2, 100, 10, 0.5, 0.5, 10 / 8, 10 / 8, 0.2)\n",
    "    for x in range(10000):\n",
    "        if x % print_frequency == 0:\n",
    "            gia.iteration(post_text=True, avg_fitness=True)\n",
    "            print('INTER ITERATION: SEX:', sexual_success, 'ASEX:', asexual_success)\n",
    "            #gia.plot_loci_3d(proportions=True)\n",
    "            #print('Percent of top 10% thats asexual, Perc of total pop asexual', gia.top_10_perc_asex())\n",
    "        else:\n",
    "            gia.iteration()\n",
    "        if gia.separator > population_size - 100:\n",
    "            asexual_success += 1\n",
    "            break\n",
    "        if gia.separator < 100:\n",
    "            sexual_success += 1\n",
    "            break\n",
    "    super_plotting_data[i] = gia.plotting_data\n",
    "    print('SEX:', sexual_success, 'ASEX:', asexual_success)"
   ],
   "metadata": {
    "collapsed": false,
    "pycharm": {
     "name": "#%%\n",
     "is_executing": false
    }
   }
  },
  {
   "cell_type": "code",
   "execution_count": 11,
   "outputs": [],
   "source": [
    "import json\n",
    "\n",
    "with open('data.json', 'w') as fp:\n",
    "    json.dump(gia.plotting_data, fp)"
   ],
   "metadata": {
    "collapsed": false,
    "pycharm": {
     "name": "#%%\n",
     "is_executing": false
    }
   }
  },
  {
   "cell_type": "code",
   "execution_count": 12,
   "outputs": [
    {
     "name": "stdout",
     "text": [
      "hello9\n"
     ],
     "output_type": "stream"
    }
   ],
   "source": [
    "print('hello9')"
   ],
   "metadata": {
    "collapsed": false,
    "pycharm": {
     "name": "#%%\n",
     "is_executing": false
    }
   }
  },
  {
   "cell_type": "code",
   "execution_count": null,
   "outputs": [],
   "source": [],
   "metadata": {
    "collapsed": false,
    "pycharm": {
     "name": "#%%\n",
     "is_executing": true
    }
   }
  },
  {
   "cell_type": "code",
   "execution_count": null,
   "outputs": [],
   "source": [],
   "metadata": {
    "collapsed": false,
    "pycharm": {
     "name": "#%%\n",
     "is_executing": true
    }
   }
  },
  {
   "cell_type": "code",
   "execution_count": null,
   "outputs": [],
   "source": [],
   "metadata": {
    "collapsed": false,
    "pycharm": {
     "name": "#%%\n",
     "is_executing": true
    }
   }
  },
  {
   "cell_type": "code",
   "execution_count": null,
   "outputs": [],
   "source": [],
   "metadata": {
    "collapsed": false,
    "pycharm": {
     "name": "#%%\n",
     "is_executing": true
    }
   }
  },
  {
   "cell_type": "code",
   "execution_count": null,
   "outputs": [],
   "source": [],
   "metadata": {
    "collapsed": false,
    "pycharm": {
     "name": "#%%\n",
     "is_executing": true
    }
   }
  },
  {
   "cell_type": "code",
   "execution_count": null,
   "outputs": [],
   "source": [],
   "metadata": {
    "collapsed": false,
    "pycharm": {
     "name": "#%%\n",
     "is_executing": true
    }
   }
  },
  {
   "cell_type": "code",
   "execution_count": null,
   "outputs": [],
   "source": [],
   "metadata": {
    "collapsed": false,
    "pycharm": {
     "name": "#%%\n",
     "is_executing": true
    }
   }
  },
  {
   "cell_type": "code",
   "execution_count": null,
   "outputs": [],
   "source": [],
   "metadata": {
    "collapsed": false,
    "pycharm": {
     "name": "#%%\n",
     "is_executing": true
    }
   }
  },
  {
   "cell_type": "code",
   "execution_count": null,
   "outputs": [],
   "source": [],
   "metadata": {
    "collapsed": false,
    "pycharm": {
     "name": "#%%\n",
     "is_executing": true
    }
   }
  },
  {
   "cell_type": "code",
   "execution_count": null,
   "outputs": [],
   "source": [],
   "metadata": {
    "collapsed": false,
    "pycharm": {
     "name": "#%%\n",
     "is_executing": true
    }
   }
  },
  {
   "cell_type": "code",
   "execution_count": null,
   "outputs": [],
   "source": [],
   "metadata": {
    "collapsed": false,
    "pycharm": {
     "name": "#%%\n",
     "is_executing": true
    }
   }
  },
  {
   "cell_type": "code",
   "execution_count": null,
   "outputs": [],
   "source": [
    "\n"
   ],
   "metadata": {
    "collapsed": false,
    "pycharm": {
     "name": "#%%\n"
    }
   }
  }
 ],
 "metadata": {
  "kernelspec": {
   "display_name": "Python 3",
   "language": "python",
   "name": "python3"
  },
  "language_info": {
   "codemirror_mode": {
    "name": "ipython",
    "version": 2
   },
   "file_extension": ".py",
   "mimetype": "text/x-python",
   "name": "python",
   "nbconvert_exporter": "python",
   "pygments_lexer": "ipython2",
   "version": "2.7.6"
  },
  "pycharm": {
   "stem_cell": {
    "cell_type": "raw",
    "source": [],
    "metadata": {
     "collapsed": false
    }
   }
  }
 },
 "nbformat": 4,
 "nbformat_minor": 0
}