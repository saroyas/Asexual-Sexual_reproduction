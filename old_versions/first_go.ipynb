{
 "cells": [
  {
   "cell_type": "code",
   "execution_count": 1,
   "outputs": [],
   "source": [
    "import matplotlib.pyplot as plt\n",
    "import itertools\n",
    "import random\n",
    "import copy\n",
    "import numpy as np\n",
    "import matplotlib\n",
    "import matplotlib.pyplot as plt\n",
    "from scipy.ndimage import convolve\n",
    "from operator import itemgetter\n",
    "from itertools import groupby\n",
    "%matplotlib inline\n",
    "import statistics"
   ],
   "metadata": {
    "collapsed": false,
    "pycharm": {
     "name": "#%%\n",
     "is_executing": false
    }
   }
  },
  {
   "cell_type": "code",
   "execution_count": null,
   "outputs": [],
   "source": [
    "l=5 # the number of genes an individual has\n",
    "# D = WHICH INDIVISUALS ARE ALLOWED TO EXISTS, EASIER TO SET IN THE CROPPING STAGE\n",
    "# THREE DIFF D's are considered: natural numbers, integers, bounded range of integers\n",
    "'''\n",
    "def fitness(x, type = 'additive'):\n",
    "    if type == 'additive':\n",
    "        return sum(x)\n",
    "    else:\n",
    "        print('UNDEFINED WHICH FITNESS FUNTION YOU WANT')\n",
    "'''   "
   ],
   "metadata": {
    "collapsed": false,
    "pycharm": {
     "name": "#%%\n"
    }
   }
  },
  {
   "cell_type": "code",
   "execution_count": null,
   "outputs": [],
   "source": [
    "class asexual_population():\n",
    "    def __init__(self, num_loci = 5, pop_size = 100):\n",
    "        self.num_loci = 5\n",
    "        self.pop_size = pop_size\n",
    "        self.pop_matrix = np.random.normal(1000, 30, (num_loci, pop_size)) #numbers below zero may create issues, so dist like this\n",
    "        self.pop_matrix = (self.pop_matrix).astype(int)\n",
    "        #THE STANDARD DEVIATION IN THE ORIGINAL POPULATION MUST BE CONSIDERED WHEN DEFINING MUTATION DIST\n",
    "        \n",
    "    def pop_fitness(self):\n",
    "        # WE DO BASIC SUM FOR NOW, later we may think of multiplication or of exponentials\n",
    "        return np.sum(self.pop_matrix, 0)\n",
    "    \n",
    "    def avg_fitness(self):\n",
    "        return np.mean(self.pop_matrix)\n",
    "    \n",
    "    def selection(self):\n",
    "        pop_fitness = self.pop_fitness()\n",
    "        avg_fitness = self.avg_fitness()\n",
    "        next_gen_exp = pop_fitness/avg_fitness #the expected survival rate\n",
    "        \n",
    "        #NEED TO THINK ABOUT EFFICIENCY ISSUES HERE, is there a way to not use for loop:\n",
    "        survival_list = []\n",
    "        \n",
    "        \n",
    "        \n",
    "        \n",
    "        \n",
    "    \n",
    "\n",
    "\n"
   ],
   "metadata": {
    "collapsed": false,
    "pycharm": {
     "name": "#%%\n"
    }
   }
  }
 ],
 "metadata": {
  "kernelspec": {
   "display_name": "Python 3",
   "language": "python",
   "name": "python3"
  },
  "language_info": {
   "codemirror_mode": {
    "name": "ipython",
    "version": 2
   },
   "file_extension": ".py",
   "mimetype": "text/x-python",
   "name": "python",
   "nbconvert_exporter": "python",
   "pygments_lexer": "ipython2",
   "version": "2.7.6"
  },
  "pycharm": {
   "stem_cell": {
    "cell_type": "raw",
    "source": [],
    "metadata": {
     "collapsed": false
    }
   }
  }
 },
 "nbformat": 4,
 "nbformat_minor": 0
}