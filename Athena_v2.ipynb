{
 "cells": [
  {
   "cell_type": "code",
   "execution_count": 1,
   "outputs": [],
   "source": [
    "from gen_landscape import *\n",
    "from world_class_v2 import *"
   ],
   "metadata": {
    "collapsed": false,
    "pycharm": {
     "name": "#%%\n",
     "is_executing": false
    }
   }
  },
  {
   "cell_type": "code",
   "execution_count": 60,
   "outputs": [],
   "source": [
    "land = Landscape(2, 300, num_grid_res=2)"
   ],
   "metadata": {
    "collapsed": false,
    "pycharm": {
     "name": "#%%\n",
     "is_executing": false
    }
   }
  },
  {
   "cell_type": "code",
   "execution_count": null,
   "outputs": [
    {
     "name": "stdout",
     "text": [
      "max for each loci [188 189]\nmin for each loci: [114 115]\nIteration: 0\nAsex population percentage: 0.4987\n",
      "Iteration: 500\nAsex population percentage: 0.9356\n",
      "ASEX WINNER\nmax for each loci [187 191]\nmin for each loci: [111 110]\nIteration: 0\nAsex population percentage: 0.5064\n",
      "Iteration: 500\nAsex population percentage: 0.2164\n",
      "SEX WINNER\nmax for each loci [188 191]\nmin for each loci: [104 111]\nIteration: 0\nAsex population percentage: 0.4993\n",
      "Iteration: 500\nAsex population percentage: 0.0629\n",
      "SEX WINNER\nmax for each loci [189 189]\nmin for each loci: [110 111]\nIteration: 0\nAsex population percentage: 0.5027\n",
      "Iteration: 500\nAsex population percentage: 0.2427\n",
      "Iteration: 1000\nAsex population percentage: 0.239\n",
      "Iteration: 1500\nAsex population percentage: 0.026\n",
      "SEX WINNER\nmax for each loci [184 187]\nmin for each loci: [111 111]\nIteration: 0\nAsex population percentage: 0.4994\n"
     ],
     "output_type": "stream"
    }
   ],
   "source": [
    "def create_world_and_run_till_end(sex_win, asex_win, land):\n",
    "    gia = world(population_size=10000, loci=2, gene_mean=150, gene_sd=10, proportion_asexual=0.5, survival_rate=0.7,\n",
    "                asex_repl_ratio=10 / 7, sex_repl_ratio=10 / 7, mutation_down_prob=0.05, mutation_up_prob=0.05,\n",
    "                mutation_step=1, control=4, landscape=land.fitness_grid)\n",
    "    \n",
    "    print('max for each loci', np.max(gia.total_pop_mat, axis = 1))\n",
    "    print('min for each loci:', np.min(gia.total_pop_mat, axis = 1))\n",
    "    for i in range(100000):\n",
    "        if gia.population_sizes(asex=True) < 100:\n",
    "            sex_win += 1\n",
    "            print('SEX WINNER')\n",
    "            break\n",
    "        elif gia.population_sizes(sex=True) < 100:\n",
    "            asex_win += 1\n",
    "            print('ASEX WINNER')\n",
    "            break\n",
    "        gia.mutation_stage()\n",
    "        gia.survival_stage()\n",
    "        gia.replication_stage()\n",
    "        if i % 500 == 0:\n",
    "            print('Iteration:', i)\n",
    "            print('Asex population percentage:', gia.population_sizes(asex=True) / gia.population_sizes(total=True))\n",
    "    return sex_win, asex_win\n",
    "\n",
    "sex_win, asex_win = 0, 0\n",
    "land_num = 0\n",
    "land_dict = {}\n",
    "for n in range(10):\n",
    "    land = Landscape(2, 300, num_grid_res=2)\n",
    "    sex_win, asex_win = create_world_and_run_till_end(sex_win, asex_win, land)\n",
    "\n",
    "print('INTER-ITER: Sex:', sex_win, ' Asex:', asex_win)\n",
    "print('iterations', i)"
   ],
   "metadata": {
    "collapsed": false,
    "pycharm": {
     "name": "#%%\n",
     "is_executing": true
    }
   }
  },
  {
   "cell_type": "code",
   "execution_count": null,
   "outputs": [],
   "source": [],
   "metadata": {
    "collapsed": false,
    "pycharm": {
     "name": "#%%\n"
    }
   }
  }
 ],
 "metadata": {
  "kernelspec": {
   "display_name": "Python 3",
   "language": "python",
   "name": "python3"
  },
  "language_info": {
   "codemirror_mode": {
    "name": "ipython",
    "version": 2
   },
   "file_extension": ".py",
   "mimetype": "text/x-python",
   "name": "python",
   "nbconvert_exporter": "python",
   "pygments_lexer": "ipython2",
   "version": "2.7.6"
  },
  "pycharm": {
   "stem_cell": {
    "cell_type": "raw",
    "source": [],
    "metadata": {
     "collapsed": false
    }
   }
  }
 },
 "nbformat": 4,
 "nbformat_minor": 0
}