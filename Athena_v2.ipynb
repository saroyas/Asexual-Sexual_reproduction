{
 "cells": [
  {
   "cell_type": "code",
   "execution_count": 7,
   "metadata": {
    "collapsed": true,
    "pycharm": {
     "is_executing": false
    }
   },
   "outputs": [
    {
     "name": "stdout",
     "text": [
      "hello\n"
     ],
     "output_type": "stream"
    }
   ],
   "source": [
    "import random\n",
    "import pickle\n",
    "import numpy as np\n",
    "import matplotlib.pyplot as plt\n",
    "from mpl_toolkits.mplot3d import Axes3D\n",
    "import json\n",
    "print('hello')"
   ]
  },
  {
   "cell_type": "code",
   "execution_count": 8,
   "outputs": [],
   "source": [
    "def fitness_landscape(organism_column, control=0):\n",
    "    if control == 1:\n",
    "        fitness_value_for_organism = 1\n",
    "    elif control == 0:\n",
    "        fitness_value_for_organism = np.sum(organism_column)\n",
    "    return fitness_value_for_organism"
   ],
   "metadata": {
    "collapsed": false,
    "pycharm": {
     "name": "#%%\n",
     "is_executing": false
    }
   }
  },
  {
   "cell_type": "code",
   "execution_count": 31,
   "outputs": [],
   "source": [
    "class world():\n",
    "    def __init__(self, population_size, loci, gene_mean, gene_sd, proportion_asexual,\n",
    "                 survival_rate, asex_repl_ratio, sex_repl_ratio, mutation_down_prob, mutation_up_prob, mutation_step = 1):\n",
    "        self.population_size = population_size\n",
    "        self.loci = loci\n",
    "        self.organism_capacity = round(survival_rate * population_size)\n",
    "        self.asex_repl_ratio = asex_repl_ratio\n",
    "        self.sex_repl_ratio = sex_repl_ratio\n",
    "        self.total_pop_mat = (np.random.normal(gene_mean, gene_sd, (loci, self.population_size))).astype(int)\n",
    "        self.separator = round(self.population_size * proportion_asexual)  # To indicate where the asex ends and sex begins\n",
    "        self.mutation_down_prob = mutation_down_prob\n",
    "        self.mutation_up_prob = mutation_up_prob\n",
    "        self.mutation_step = mutation_step\n",
    "        self.plot_iter_num = 0\n",
    "        self.plot_data_sex = {}\n",
    "        self.plot_data_asex = {}\n",
    "        self.plot_data_total = {}\n",
    "        self.add_to_plot_data()\n",
    "        self.loci_var_data = []\n",
    "        \n",
    "    def asex_pop_matrix(self):\n",
    "        asex_matrix = self.total_pop_mat[:, :self.separator]\n",
    "        return asex_matrix\n",
    "    \n",
    "    def sex_pop_matrix(self):\n",
    "        sex_matrix = self.total_pop_mat[:, self.separator:]\n",
    "        return sex_matrix\n",
    "        \n",
    "    def add_to_plot_data(self):\n",
    "        species = {}\n",
    "        species['asex'] = self.asex_pop_matrix().tolist()\n",
    "        species['sex'] = self.sex_pop_matrix().tolist()\n",
    "        self.plot_data_total[self.plot_iter_num] = species\n",
    "        self.plot_iter_num += 1\n",
    "        \n",
    "    def population_sizes(self, total=False, asex=False, sex=False):\n",
    "        if total == True:\n",
    "            return self.total_pop_mat.shape[1]\n",
    "        if asex == True:\n",
    "            return self.asex_pop_matrix().shape[1]\n",
    "        if sex == True:\n",
    "            return self.sex_pop_matrix().shape[1]\n",
    "\n",
    "    def mutation_stage(self):\n",
    "        shape = self.total_pop_mat.shape\n",
    "        mutation_prob=[self.mutation_down_prob, 1 - self.mutation_down_prob - self.mutation_up_prob, self.mutation_up_prob]\n",
    "        mutation_matrix = np.random.choice([-self.mutation_step, 0, self.mutation_step], size=shape, p=mutation_prob)\n",
    "        self.total_pop_mat = self.total_pop_mat + mutation_matrix\n",
    "        \n",
    "    def calc_fitness_array(self, population_subset):\n",
    "        return np.apply_along_axis(fitness_landscape, 0, population_subset)\n",
    "    \n",
    "    def survival_probability(self):\n",
    "        # For now we make survival probability simply proportionate to\n",
    "        # the fitness value. This is fine, and moves all the subtlety to the fitness landscape.\n",
    "        self.fitness_array = self.calc_fitness_array(population_subset=self.total_pop_mat)\n",
    "        total_fitness = np.sum(self.fitness_array)\n",
    "        prop_fitness = np.divide(self.fitness_array, total_fitness)\n",
    "        return prop_fitness\n",
    "    \n",
    "    def survival_stage(self):\n",
    "        curr_population_index = range(self.population_sizes(total=True))\n",
    "        prop_fitness = self.survival_probability()\n",
    "        # The following step may be a serious computational time issue\n",
    "        survivor_list = np.random.choice(curr_population_index, self.organism_capacity, replace=False, p=prop_fitness)\n",
    "        self.total_pop_mat = (self.total_pop_mat)[:, survivor_list]\n",
    "        self.separator = np.size(np.where(survivor_list < self.separator))\n",
    "        \n",
    "    \n",
    "    def asex_replication_stage(self):\n",
    "        asex_pop_mat = self.asex_pop_matrix()\n",
    "        current_organism_index = np.arange(0, self.population_sizes(asex=True))\n",
    "        next_gen_size = round(self.population_sizes(asex=True) * self.asex_repl_ratio)\n",
    "        next_gen_chosen = np.random.choice(current_organism_index, size=next_gen_size, replace=True)\n",
    "        chosen_orgs = asex_pop_mat[:, next_gen_chosen]\n",
    "        return chosen_orgs\n",
    "        \n",
    "    def sexual_recombination(self):\n",
    "        current_organism_index = np.arange(0,self.population_sizes(sex=True))\n",
    "        next_gen_size = round(self.population_sizes(sex=True) * self.sex_repl_ratio)\n",
    "        next_gen_chosen = np.random.choice(current_organism_index, size=next_gen_size, replace=True)\n",
    "        sex_pop_mat = self.sex_pop_matrix()\n",
    "        chosen_orgs = sex_pop_mat[:, next_gen_chosen]\n",
    "        for i in range(self.loci):\n",
    "            np.random.shuffle(chosen_orgs[i])\n",
    "        return chosen_orgs\n",
    "    \n",
    "    def pop_size_preserving_repl_rates(self):\n",
    "        current_pop_size = self.population_sizes(total=True)\n",
    "        ratio = self.population_size / current_pop_size\n",
    "        self.sex_repl_ratio, self.asex_repl_ratio = ratio, ratio\n",
    "    \n",
    "    def replication_stage(self, pop_size_preserving=True):\n",
    "        if pop_size_preserving == True:\n",
    "            self.pop_size_preserving_repl_rates()\n",
    "        asex_pop_mat = self.asex_replication_stage()\n",
    "        sex_pop_mat = self.sexual_recombination()\n",
    "        self.total_pop_mat = np.concatenate([asex_pop_mat, sex_pop_mat], axis=1)\n",
    "        self.separator = asex_pop_mat.shape[1]\n",
    "        \n",
    "    def loci_variance(self, sex = True):\n",
    "        if sex == True:\n",
    "            pop_mat = self.sex_pop_matrix()\n",
    "        else:\n",
    "            pop_mat = self.asex_pop_matrix()\n",
    "        loci_var = []\n",
    "        for x in range(self.loci):\n",
    "            loci_var.append(np.var(pop_mat[x,:]))\n",
    "        return loci_var\n",
    "    \n",
    "    def diff_in_loci_var_data(self):\n",
    "        sex_loci_var = self.loci_variance(sex=True)\n",
    "        asex_loci_var = self.loci_variance(sex=False)\n",
    "        diff_loci_var = [(asex_loci_var[i] - sex_loci_var[i]) for i in range(self.loci)]\n",
    "        self.loci_var_data.append(diff_loci_var)\n",
    "    \n",
    "    def summarize_loci_var(self):\n",
    "        avg_diff = np.average(self.loci_var_data, 0).astype(int)    \n",
    "        return avg_diff\n",
    "        \n",
    "    def publish_plot_data(self):\n",
    "        with open('data.json', 'w') as fp:\n",
    "            json.dump(self.plot_data_total, fp)\n",
    "    "
   ],
   "metadata": {
    "collapsed": false,
    "pycharm": {
     "name": "#%%\n",
     "is_executing": false
    }
   }
  },
  {
   "cell_type": "code",
   "execution_count": 32,
   "outputs": [],
   "source": [
    "def iteration(gia):\n",
    "    gia.mutation_stage()\n",
    "    gia.survival_stage()\n",
    "    gia.replication_stage()"
   ],
   "metadata": {
    "collapsed": false,
    "pycharm": {
     "name": "#%%\n",
     "is_executing": false
    }
   }
  },
  {
   "cell_type": "code",
   "execution_count": 33,
   "outputs": [],
   "source": [
    "gia = world(population_size=20, loci=100, gene_mean=30, gene_sd=3, proportion_asexual=0.5, survival_rate=0.7, \n",
    "                asex_repl_ratio=10/7, sex_repl_ratio=10/7, mutation_down_prob=0.05, mutation_up_prob=0.05, mutation_step=1)\n"
   ],
   "metadata": {
    "collapsed": false,
    "pycharm": {
     "name": "#%%\n",
     "is_executing": false
    }
   }
  },
  {
   "cell_type": "code",
   "execution_count": 34,
   "outputs": [
    {
     "name": "stdout",
     "text": [
      "[52 64 61 58 62 56 59 60 58 57]\n587\n[0.08858603 0.10902896 0.10391823 0.0988075  0.10562181 0.09540034\n 0.10051107 0.10221465 0.0988075  0.09710392]\n[61 63 62 64 62 58 57 56 55 56]\n594\n[0.1026936  0.10606061 0.1043771  0.10774411 0.1043771  0.0976431\n 0.0959596  0.09427609 0.09259259 0.09427609]\n[60 62 62 57 56 63 56 56 56 55]",
      "\n583\n[0.10291595 0.10634648 0.10634648 0.09777015 0.09605489 0.10806175\n 0.09605489 0.09605489 0.09605489 0.09433962]\n[56 63 63 63 55 56 59 60 56 55]\n586\n[0.09556314 0.10750853 0.10750853 0.10750853 0.09385666 0.09556314\n 0.10068259 0.10238908 0.09556314 0.09385666]\n[62 63 56 55 63 63 63 59 63 57]\n604\n[0.10264901 0.10430464 0.09271523 0.0910596  0.10430464 0.10430464\n 0.10430464 0.09768212 0.10430464 0.09437086]\n[63 62 62 62 63 57 63 56 58 61]\n607\n[0.10378913 0.10214168 0.10214168 0.10214168 0.10378913 0.09390445\n 0.10378913 0.092257   0.09555189 0.10049423]\n[62 61 63 59 62 58 63 63 63 63]\n617\n[0.10048622 0.09886548 0.10210697 0.09562399 0.10048622 0.09400324\n 0.10210697 0.10210697 0.10210697 0.10210697]\n[63 63 64 63 63 64 59 59 58 62]\n618\n[0.10194175 0.10194175 0.10355987 0.10194175 0.10194175 0.10355987\n 0.09546926 0.09546926 0.09385113 0.10032362]\n[59 62 59 62 63 57 60 65 65 64]\n616\n[0.09577922 0.10064935 0.09577922 0.10064935 0.10227273 0.09253247\n 0.0974026  0.10551948 0.10551948 0.1038961 ]\n[64 63 65 66 64 64 62 63 66 65]\n642\n[0.09968847 0.09813084 0.10124611 0.10280374 0.09968847 0.09968847\n 0.09657321 0.09813084 0.10280374 0.10124611]\n[66 64 66 66 63 63 61 63 64 64]\n640\n[0.103125  0.1       0.103125  0.103125  0.0984375 0.0984375 0.0953125\n 0.0984375 0.1       0.1      ]\n[64 63 65 63 64 63 66 62 66 66]\n642\n[0.09968847 0.09813084 0.10124611 0.09813084 0.09968847 0.09813084\n 0.10280374 0.09657321 0.10280374 0.10280374]\n",
      "[65 62 66 66 62 64 65 64 65 65]\n644\n[0.10093168 0.09627329 0.10248447 0.10248447 0.09627329 0.09937888\n 0.10093168 0.09937888 0.10093168 0.10093168]\n[65 64 65 65 65 67 62 63 64 67]\n647\n[0.10046368 0.09891808 0.10046368 0.10046368 0.10046368 0.10355487\n 0.09582689 0.09737249 0.09891808 0.10355487]\n[66 67 66 68 64 68 66 60 63 67]\n655\n[0.10076336 0.10229008 0.10076336 0.10381679 0.09770992 0.10381679\n 0.10076336 0.09160305 0.09618321 0.10229008]\n[67 67 68 64 67 66 69 63 59 64]\n654\n[0.10244648 0.10244648 0.10397554 0.09785933 0.10244648 0.10091743\n 0.10550459 0.09633028 0.09021407 0.09785933]\n[64 70 67 64 68 68 64 64 66 62]\n657\n[0.09741248 0.1065449  0.10197869 0.09741248 0.10350076 0.10350076\n 0.09741248 0.09741248 0.10045662 0.09436834]\n[64 68 71 67 69 65 64 67 66 67]\n668\n[0.09580838 0.10179641 0.10628743 0.1002994  0.10329341 0.09730539\n 0.09580838 0.1002994  0.0988024  0.1002994 ]\n[67 66 69 67 66 68 63 66 68 66]\n666\n[0.1006006  0.0990991  0.1036036  0.1006006  0.0990991  0.1021021\n 0.09459459 0.0990991  0.1021021  0.0990991 ]\n[68 66 66 68 66 70 69 67 65 67]\n672\n[0.10119048 0.09821429 0.09821429 0.10119048 0.09821429 0.10416667\n 0.10267857 0.09970238 0.09672619 0.09970238]\n"
     ],
     "output_type": "stream"
    }
   ],
   "source": [
    "x = []\n",
    "\n",
    "gia = world(population_size=10, loci=2, gene_mean=30, gene_sd=3, proportion_asexual=0.5, survival_rate=0.7, \n",
    "            asex_repl_ratio=10/7, sex_repl_ratio=10/7, mutation_down_prob=0.1, mutation_up_prob=0.1, mutation_step=1)\n",
    "for i in range(20):\n",
    "    iteration(gia = gia)\n",
    "gia.publish_plot_data()\n"
   ],
   "metadata": {
    "collapsed": false,
    "pycharm": {
     "name": "#%%\n",
     "is_executing": false
    }
   }
  },
  {
   "cell_type": "code",
   "execution_count": 21,
   "outputs": [
    {
     "name": "stdout",
     "text": [
      "hello\n"
     ],
     "output_type": "stream"
    }
   ],
   "source": [
    "print('hello')"
   ],
   "metadata": {
    "collapsed": false,
    "pycharm": {
     "name": "#%%\n",
     "is_executing": false
    }
   }
  },
  {
   "cell_type": "code",
   "execution_count": null,
   "outputs": [],
   "source": [
    "\n"
   ],
   "metadata": {
    "collapsed": false,
    "pycharm": {
     "name": "#%%\n"
    }
   }
  }
 ],
 "metadata": {
  "kernelspec": {
   "display_name": "Python 3",
   "language": "python",
   "name": "python3"
  },
  "language_info": {
   "codemirror_mode": {
    "name": "ipython",
    "version": 2
   },
   "file_extension": ".py",
   "mimetype": "text/x-python",
   "name": "python",
   "nbconvert_exporter": "python",
   "pygments_lexer": "ipython2",
   "version": "2.7.6"
  },
  "pycharm": {
   "stem_cell": {
    "cell_type": "raw",
    "source": [],
    "metadata": {
     "collapsed": false
    }
   }
  }
 },
 "nbformat": 4,
 "nbformat_minor": 0
}