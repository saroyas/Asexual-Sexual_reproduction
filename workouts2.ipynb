{
 "cells": [
  {
   "cell_type": "code",
   "execution_count": 13,
   "outputs": [],
   "source": [
    "import numpy as np\n",
    "import pandas as pd\n",
    "import seaborn as sns\n",
    "import matplotlib\n",
    "import matplotlib.pyplot as plt\n",
    "import matplotlib.animation as animation\n",
    "import json\n",
    "from matplotlib.animation import PillowWriter"
   ],
   "metadata": {
    "collapsed": false,
    "pycharm": {
     "name": "#%%\n",
     "is_executing": false
    }
   }
  },
  {
   "cell_type": "code",
   "execution_count": 14,
   "outputs": [
    {
     "name": "stdout",
     "text": [
      "sucesfully loaded stuff\n"
     ],
     "output_type": "stream"
    }
   ],
   "source": [
    "plot_asex=True\n",
    "plot_sex=True\n",
    "with open('camera_roll.json', 'r') as fp:\n",
    "    total_plot_data = json.load(fp)\n",
    "    print('sucesfully loaded stuff')"
   ],
   "metadata": {
    "collapsed": false,
    "pycharm": {
     "name": "#%%\n",
     "is_executing": false
    }
   }
  },
  {
   "cell_type": "code",
   "execution_count": 15,
   "outputs": [],
   "source": [
    "def get_data(sex=True):\n",
    "    data = {}\n",
    "    if sex == True:\n",
    "        for i in list(total_plot_data.keys()):\n",
    "            k = int(i)\n",
    "            data[k] = (total_plot_data[i])[0]\n",
    "    else:\n",
    "        for i in list(total_plot_data.keys()):\n",
    "            k = int(i)\n",
    "            data[k] = (total_plot_data[i])[1]\n",
    "    return data\n",
    "\n",
    "sex_data = get_data(sex=True)\n",
    "asex_data = get_data(sex=False)"
   ],
   "metadata": {
    "collapsed": false,
    "pycharm": {
     "name": "#%%\n",
     "is_executing": false
    }
   }
  },
  {
   "cell_type": "code",
   "execution_count": 16,
   "outputs": [
    {
     "data": {
      "text/plain": "[[], []]"
     },
     "metadata": {},
     "output_type": "execute_result",
     "execution_count": 16
    }
   ],
   "source": [
    "#[np.min(sex_data[i]) for i in sex_data.keys()]\n",
    "list(sex_data.keys())\n",
    "sex_data[20]"
   ],
   "metadata": {
    "collapsed": false,
    "pycharm": {
     "name": "#%%\n",
     "is_executing": false
    }
   }
  },
  {
   "cell_type": "code",
   "execution_count": null,
   "outputs": [],
   "source": [
    "fig = plt.figure(figsize=(10, 10))\n",
    "\n",
    "total_min, total_max = 0, 0\n",
    "if plot_sex and plot_asex:\n",
    "    total_min = np.min([np.min(sex_data[i]) for i in sex_data.keys()] + [np.min(asex_data[i]) for i in asex_data.keys()])\n",
    "    total_max = np.max([np.max(sex_data[i]) for i in sex_data.keys()] + [np.max(asex_data[i]) for i in asex_data.keys()])\n",
    "\n",
    "if plot_asex==False:\n",
    "    total_min = np.min([np.min(sex_data[i]) for i in sex_data.keys()])\n",
    "    total_max = np.max([np.max(sex_data[i]) for i in sex_data.keys()])\n",
    "if plot_sex == False:\n",
    "    total_min = np.min([np.min(asex_data[i]) for i in asex_data.keys()])\n",
    "    total_max = np.max([np.max(asex_data[i]) for i in asex_data.keys()])"
   ],
   "metadata": {
    "collapsed": false,
    "pycharm": {
     "name": "#%%\n"
    }
   }
  },
  {
   "cell_type": "code",
   "execution_count": null,
   "outputs": [],
   "source": [
    "def reset_plot():\n",
    "    plt.clf()\n",
    "    plt.xlabel('Loci 0', fontsize=20)\n",
    "    plt.ylabel('Loci 1', fontsize=20)\n",
    "    plt.xlim(total_min, total_max)\n",
    "    plt.ylim(total_min, total_max)\n",
    "\n",
    "def animate(i):\n",
    "    reset_plot()\n",
    "    if plot_asex:\n",
    "        asex_0, asex_1 = asex_data[i][0], asex_data[i][1]\n",
    "        p = sns.kdeplot(asex_0, asex_1, cmap=\"Blues\")\n",
    "    if plot_sex:\n",
    "        sex_0, sex_1 = sex_data[i][0], sex_data[i][1]\n",
    "        p = sns.kdeplot(sex_0, sex_1, cmap=\"Reds\")\n",
    "    p.tick_params(labelsize=17)\n",
    "    plt.setp(p.lines, linewidth=7)\n",
    "\n",
    "anim = matplotlib.animation.FuncAnimation(fig, animate, frames=frame_range, repeat=True)\n",
    "\n",
    "file_name = str(input('What to save file as?')) + '.gif'\n",
    "\n",
    "FFwriter = PillowWriter(fps=3)\n",
    "anim.save(file_name, writer=FFwriter)"
   ],
   "metadata": {
    "collapsed": false,
    "pycharm": {
     "name": "#%%\n"
    }
   }
  },
  {
   "cell_type": "code",
   "execution_count": null,
   "outputs": [],
   "source": [
    "\n"
   ],
   "metadata": {
    "collapsed": false,
    "pycharm": {
     "name": "#%%\n"
    }
   }
  }
 ],
 "metadata": {
  "kernelspec": {
   "display_name": "Python 3",
   "language": "python",
   "name": "python3"
  },
  "language_info": {
   "codemirror_mode": {
    "name": "ipython",
    "version": 2
   },
   "file_extension": ".py",
   "mimetype": "text/x-python",
   "name": "python",
   "nbconvert_exporter": "python",
   "pygments_lexer": "ipython2",
   "version": "2.7.6"
  },
  "pycharm": {
   "stem_cell": {
    "cell_type": "raw",
    "source": [],
    "metadata": {
     "collapsed": false
    }
   }
  }
 },
 "nbformat": 4,
 "nbformat_minor": 0
}