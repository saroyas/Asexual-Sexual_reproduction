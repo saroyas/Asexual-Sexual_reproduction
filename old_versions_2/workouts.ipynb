{
 "cells": [
  {
   "cell_type": "code",
   "execution_count": 1,
   "outputs": [],
   "source": [
    "from gen_landscape import *\n",
    "from world_class_v2 import *\n",
    "import datetime\n",
    "import json\n",
    "import numpy as np"
   ],
   "metadata": {
    "collapsed": false,
    "pycharm": {
     "name": "#%%\n",
     "is_executing": false
    }
   }
  },
  {
   "cell_type": "code",
   "execution_count": 2,
   "outputs": [],
   "source": [
    "def create_world_and_run_till_end(land):\n",
    "    gia = world(population_size=10000, loci=2, gene_mean=150, gene_sd=10, proportion_asexual=0.5, survival_rate=0.7,\n",
    "                asex_repl_ratio=10 / 7, sex_repl_ratio=10 / 7, mutation_down_prob=0.05, mutation_up_prob=0.05,\n",
    "                mutation_step=1, control=4, landscape=land.fitness_grid)\n",
    "    i = 0\n",
    "    for i in range(11000):\n",
    "        if gia.population_sizes(asex=True) < 100:\n",
    "            who_won = 2\n",
    "            print('SEX WINNER')\n",
    "            break\n",
    "        elif gia.population_sizes(sex=True) < 100:\n",
    "            who_won = 1\n",
    "            print('ASEX WINNER')\n",
    "            break\n",
    "        elif i>10000:\n",
    "            who_won = 0\n",
    "            print('DRAW')\n",
    "            break\n",
    "        gia.mutation_stage()\n",
    "        gia.survival_stage()\n",
    "        gia.replication_stage()\n",
    "    return who_won\n"
   ],
   "metadata": {
    "collapsed": false,
    "pycharm": {
     "name": "#%%\n",
     "is_executing": false
    }
   }
  },
  {
   "cell_type": "code",
   "execution_count": 3,
   "outputs": [],
   "source": [
    "def isCircular(arr1, arr2):\n",
    "    if len(arr1) != len(arr2):\n",
    "        return False\n",
    "\n",
    "    str1 = ' '.join(map(str, arr1))\n",
    "    str2 = ' '.join(map(str, arr2))\n",
    "    if len(str1) != len(str2):\n",
    "        return False\n",
    "\n",
    "    return str1 in str2 + ' ' + str2"
   ],
   "metadata": {
    "collapsed": false,
    "pycharm": {
     "name": "#%%\n",
     "is_executing": false
    }
   }
  },
  {
   "cell_type": "code",
   "execution_count": 4,
   "outputs": [],
   "source": [
    "range_possible = [1,50,100]\n",
    "import itertools\n",
    "all_possible = list(itertools.product(range_possible,range_possible, range_possible, range_possible))\n",
    "final_arrangements = []\n",
    "for arrangement in all_possible:\n",
    "    no_cyclic_quivalent = True\n",
    "    for arr in final_arrangements:\n",
    "        if isCircular(arrangement, arr) == True:\n",
    "            no_cyclic_quivalent = False\n",
    "    if no_cyclic_quivalent == True:\n",
    "        final_arrangements.append(arrangement)\n"
   ],
   "metadata": {
    "collapsed": false,
    "pycharm": {
     "name": "#%%\n",
     "is_executing": false
    }
   }
  },
  {
   "cell_type": "code",
   "execution_count": 5,
   "outputs": [],
   "source": [
    "def run_assesment_of_landscape(assigned_fitness, num_times=1):\n",
    "    sex_wins, asex_wins, draws, errors = 0,0,0,0\n",
    "    assigned_fitness = np.array(assigned_fitness)\n",
    "    for n in range(num_times):\n",
    "        #try:\n",
    "        land = Landscape(num_dimensions=2, dimension_size=300, num_grid_res=3, assigned_fitness = assigned_fitness)\n",
    "        who_won = create_world_and_run_till_end(land)\n",
    "        if who_won==0:\n",
    "            draws+=1\n",
    "        elif who_won==1:\n",
    "            asex_wins+=1\n",
    "        elif who_won==2:\n",
    "            sex_wins+=1\n",
    "        print('     Arrangement Stats: Sex, Asex, Draws')\n",
    "        print('     ',arrangement, sex_wins, asex_wins, draws)\n",
    "        #except:\n",
    "        #    errors += 1\n",
    "    return (sex_wins, asex_wins, draws, errors)"
   ],
   "metadata": {
    "collapsed": false,
    "pycharm": {
     "name": "#%%\n",
     "is_executing": false
    }
   }
  },
  {
   "cell_type": "code",
   "execution_count": null,
   "outputs": [
    {
     "name": "stdout",
     "text": [
      "[[0, 150], [150, 0], [150, 150], [150, 300], [300, 150]]\n[ 1  1 50  1  1]\n",
      "ASEX WINNER\n     Arrangement Stats: Sex, Asex, Draws\n      (1, 1, 1, 1) 0 1 0\n[[0, 150], [150, 0], [150, 150], [150, 300], [300, 150]]\n[ 1  1 50  1  1]\n",
      "DRAW\n     Arrangement Stats: Sex, Asex, Draws\n      (1, 1, 1, 1) 0 1 1\n[[0, 150], [150, 0], [150, 150], [150, 300], [300, 150]]\n[ 1  1 50  1  1]\n"
     ],
     "output_type": "stream"
    }
   ],
   "source": [
    "data_dict = {}\n",
    "counter = 0\n",
    "for arrangement in final_arrangements:\n",
    "    arrangement1 = list(arrangement)\n",
    "    arrangement1 = arrangement1[:2]+[50]+arrangement1[2:]\n",
    "    sex_wins, asex_wins, draws, errors = run_assesment_of_landscape(assigned_fitness=arrangement1, num_times=20)\n",
    "    data_dict[counter] = (arrangement1, sex_wins, asex_wins, draws, errors)\n",
    "    counter +=1\n",
    "    print('Just finished the stuff for arrangement', arrangement1)\n",
    "    print('SEX/ASEX/DRAWS/ERRORS:',sex_wins, asex_wins, draws, errors)\n",
    "    print('===============')\n",
    "    print('Current Summary')\n",
    "    print(data_dict)"
   ],
   "metadata": {
    "collapsed": false,
    "pycharm": {
     "name": "#%%\n",
     "is_executing": true
    }
   }
  },
  {
   "cell_type": "code",
   "execution_count": null,
   "outputs": [],
   "source": [
    "print('WE ARE FINISHED')\n",
    "print('data dict')\n",
    "print(data_dict)\n",
    "\n",
    "stamp = str(datetime.datetime.now())\n",
    "filename = 'Experiment_Data\\\\two_sim_7_deg_'+stamp+'.json'\n",
    "with open(filename, 'w') as fp:\n",
    "    json.dump(data_dict, fp)"
   ],
   "metadata": {
    "collapsed": false,
    "pycharm": {
     "name": "#%%\n",
     "is_executing": true
    }
   }
  },
  {
   "cell_type": "code",
   "execution_count": 2,
   "outputs": [
    {
     "traceback": [
      "\u001b[0;31m---------------------------------------------------------------------------\u001b[0m",
      "\u001b[0;31mAttributeError\u001b[0m                            Traceback (most recent call last)",
      "\u001b[0;32m<ipython-input-2-0718df6d7267>\u001b[0m in \u001b[0;36m<module>\u001b[0;34m\u001b[0m\n\u001b[0;32m----> 1\u001b[0;31m \u001b[0mland2\u001b[0m\u001b[0;34m=\u001b[0m \u001b[0mLandscape\u001b[0m\u001b[0;34m(\u001b[0m\u001b[0;36m2\u001b[0m\u001b[0;34m,\u001b[0m \u001b[0;36m400\u001b[0m\u001b[0;34m,\u001b[0m \u001b[0;36m3\u001b[0m\u001b[0;34m)\u001b[0m\u001b[0;34m\u001b[0m\u001b[0;34m\u001b[0m\u001b[0m\n\u001b[0m\u001b[1;32m      2\u001b[0m \u001b[0;34m\u001b[0m\u001b[0m\n\u001b[1;32m      3\u001b[0m \u001b[0;34m\u001b[0m\u001b[0m\n",
      "\u001b[0;32m~/PycharmProjects/Asexual-Sexual_reproduction/gen_landscape.py\u001b[0m in \u001b[0;36m__init__\u001b[0;34m(self, num_dimensions, dimension_size, num_grid_res, assigned_fitness)\u001b[0m\n\u001b[1;32m     18\u001b[0m         \u001b[0mself\u001b[0m\u001b[0;34m.\u001b[0m\u001b[0mchosen_points\u001b[0m \u001b[0;34m=\u001b[0m \u001b[0mself\u001b[0m\u001b[0;34m.\u001b[0m\u001b[0mgen_chosen_points\u001b[0m\u001b[0;34m(\u001b[0m\u001b[0;34m)\u001b[0m\u001b[0;34m\u001b[0m\u001b[0;34m\u001b[0m\u001b[0m\n\u001b[1;32m     19\u001b[0m         \u001b[0mself\u001b[0m\u001b[0;34m.\u001b[0m\u001b[0massigned_fitness\u001b[0m \u001b[0;34m=\u001b[0m \u001b[0massigned_fitness\u001b[0m\u001b[0;34m\u001b[0m\u001b[0;34m\u001b[0m\u001b[0m\n\u001b[0;32m---> 20\u001b[0;31m         \u001b[0mself\u001b[0m\u001b[0;34m.\u001b[0m\u001b[0mfitness_grid\u001b[0m \u001b[0;34m=\u001b[0m \u001b[0mself\u001b[0m\u001b[0;34m.\u001b[0m\u001b[0mgen_landscape\u001b[0m\u001b[0;34m(\u001b[0m\u001b[0;34m)\u001b[0m\u001b[0;34m\u001b[0m\u001b[0;34m\u001b[0m\u001b[0m\n\u001b[0m\u001b[1;32m     21\u001b[0m \u001b[0;34m\u001b[0m\u001b[0m\n\u001b[1;32m     22\u001b[0m     \u001b[0;32mdef\u001b[0m \u001b[0mgen_chosen_points\u001b[0m\u001b[0;34m(\u001b[0m\u001b[0mself\u001b[0m\u001b[0;34m)\u001b[0m\u001b[0;34m:\u001b[0m\u001b[0;34m\u001b[0m\u001b[0;34m\u001b[0m\u001b[0m\n",
      "\u001b[0;32m~/PycharmProjects/Asexual-Sexual_reproduction/gen_landscape.py\u001b[0m in \u001b[0;36mgen_landscape\u001b[0;34m(self)\u001b[0m\n\u001b[1;32m     41\u001b[0m     \u001b[0;32mdef\u001b[0m \u001b[0mgen_landscape\u001b[0m\u001b[0;34m(\u001b[0m\u001b[0mself\u001b[0m\u001b[0;34m)\u001b[0m\u001b[0;34m:\u001b[0m\u001b[0;34m\u001b[0m\u001b[0;34m\u001b[0m\u001b[0m\n\u001b[1;32m     42\u001b[0m         \u001b[0;32mif\u001b[0m \u001b[0mself\u001b[0m\u001b[0;34m.\u001b[0m\u001b[0massigned_fitness\u001b[0m \u001b[0;34m==\u001b[0m \u001b[0;34m[\u001b[0m\u001b[0;34m]\u001b[0m\u001b[0;34m:\u001b[0m\u001b[0;34m\u001b[0m\u001b[0;34m\u001b[0m\u001b[0m\n\u001b[0;32m---> 43\u001b[0;31m             \u001b[0mself\u001b[0m\u001b[0;34m.\u001b[0m\u001b[0massigned_fitness\u001b[0m \u001b[0;34m=\u001b[0m \u001b[0mself\u001b[0m\u001b[0;34m.\u001b[0m\u001b[0muniform_rand_fit_assign\u001b[0m\u001b[0;34m(\u001b[0m\u001b[0;34m)\u001b[0m\u001b[0;34m\u001b[0m\u001b[0;34m\u001b[0m\u001b[0m\n\u001b[0m\u001b[1;32m     44\u001b[0m         \u001b[0;32mif\u001b[0m \u001b[0mself\u001b[0m\u001b[0;34m.\u001b[0m\u001b[0mnum_dims\u001b[0m \u001b[0;34m==\u001b[0m \u001b[0;36m2\u001b[0m\u001b[0;34m:\u001b[0m\u001b[0;34m\u001b[0m\u001b[0;34m\u001b[0m\u001b[0m\n\u001b[1;32m     45\u001b[0m             \u001b[0mgrid_x\u001b[0m\u001b[0;34m,\u001b[0m \u001b[0mgrid_y\u001b[0m \u001b[0;34m=\u001b[0m \u001b[0mnp\u001b[0m\u001b[0;34m.\u001b[0m\u001b[0mmgrid\u001b[0m\u001b[0;34m[\u001b[0m\u001b[0;36m0\u001b[0m\u001b[0;34m:\u001b[0m\u001b[0mself\u001b[0m\u001b[0;34m.\u001b[0m\u001b[0mdim_size\u001b[0m\u001b[0;34m,\u001b[0m \u001b[0;36m0\u001b[0m\u001b[0;34m:\u001b[0m\u001b[0mself\u001b[0m\u001b[0;34m.\u001b[0m\u001b[0mdim_size\u001b[0m\u001b[0;34m]\u001b[0m\u001b[0;34m\u001b[0m\u001b[0;34m\u001b[0m\u001b[0m\n",
      "\u001b[0;32m~/PycharmProjects/Asexual-Sexual_reproduction/gen_landscape.py\u001b[0m in \u001b[0;36muniform_rand_fit_assign\u001b[0;34m(self, min, max)\u001b[0m\n\u001b[1;32m     35\u001b[0m \u001b[0;34m\u001b[0m\u001b[0m\n\u001b[1;32m     36\u001b[0m     \u001b[0;32mdef\u001b[0m \u001b[0muniform_rand_fit_assign\u001b[0m\u001b[0;34m(\u001b[0m\u001b[0mself\u001b[0m\u001b[0;34m,\u001b[0m \u001b[0mmin\u001b[0m\u001b[0;34m=\u001b[0m\u001b[0;36m100\u001b[0m\u001b[0;34m,\u001b[0m \u001b[0mmax\u001b[0m\u001b[0;34m=\u001b[0m\u001b[0;36m200\u001b[0m\u001b[0;34m)\u001b[0m\u001b[0;34m:\u001b[0m\u001b[0;34m\u001b[0m\u001b[0;34m\u001b[0m\u001b[0m\n\u001b[0;32m---> 37\u001b[0;31m         \u001b[0mnum_rand_points\u001b[0m \u001b[0;34m=\u001b[0m \u001b[0mself\u001b[0m\u001b[0;34m.\u001b[0m\u001b[0mchosen_points\u001b[0m\u001b[0;34m.\u001b[0m\u001b[0mshape\u001b[0m\u001b[0;34m[\u001b[0m\u001b[0;36m0\u001b[0m\u001b[0;34m]\u001b[0m\u001b[0;34m\u001b[0m\u001b[0;34m\u001b[0m\u001b[0m\n\u001b[0m\u001b[1;32m     38\u001b[0m         \u001b[0mrand_fitness_array\u001b[0m \u001b[0;34m=\u001b[0m \u001b[0mnp\u001b[0m\u001b[0;34m.\u001b[0m\u001b[0mrandom\u001b[0m\u001b[0;34m.\u001b[0m\u001b[0mrandom_integers\u001b[0m\u001b[0;34m(\u001b[0m\u001b[0mmin\u001b[0m\u001b[0;34m,\u001b[0m \u001b[0mmax\u001b[0m\u001b[0;34m,\u001b[0m \u001b[0mnum_rand_points\u001b[0m\u001b[0;34m)\u001b[0m\u001b[0;34m\u001b[0m\u001b[0;34m\u001b[0m\u001b[0m\n\u001b[1;32m     39\u001b[0m         \u001b[0;32mreturn\u001b[0m \u001b[0mrand_fitness_array\u001b[0m\u001b[0;34m\u001b[0m\u001b[0;34m\u001b[0m\u001b[0m\n",
      "\u001b[0;31mAttributeError\u001b[0m: 'list' object has no attribute 'shape'"
     ],
     "ename": "AttributeError",
     "evalue": "'list' object has no attribute 'shape'",
     "output_type": "error"
    }
   ],
   "source": [
    "land2= Landscape(2, 400, 3)\n"
   ],
   "metadata": {
    "collapsed": false,
    "pycharm": {
     "name": "#%%\n",
     "is_executing": false
    }
   }
  },
  {
   "cell_type": "code",
   "execution_count": null,
   "outputs": [],
   "source": [
    "\n"
   ],
   "metadata": {
    "collapsed": false,
    "pycharm": {
     "name": "#%%\n"
    }
   }
  }
 ],
 "metadata": {
  "kernelspec": {
   "display_name": "Python 3",
   "language": "python",
   "name": "python3"
  },
  "language_info": {
   "codemirror_mode": {
    "name": "ipython",
    "version": 2
   },
   "file_extension": ".py",
   "mimetype": "text/x-python",
   "name": "python",
   "nbconvert_exporter": "python",
   "pygments_lexer": "ipython2",
   "version": "2.7.6"
  },
  "pycharm": {
   "stem_cell": {
    "cell_type": "raw",
    "source": [],
    "metadata": {
     "collapsed": false
    }
   }
  }
 },
 "nbformat": 4,
 "nbformat_minor": 0
}