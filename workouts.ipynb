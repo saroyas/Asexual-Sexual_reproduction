{
 "cells": [
  {
   "cell_type": "code",
   "execution_count": 2,
   "metadata": {
    "collapsed": true,
    "pycharm": {
     "is_executing": false
    }
   },
   "outputs": [],
   "source": [
    "import numpy as np\n",
    "x = np.random.choice([-1,0, 1], size=(5,5), p=[0.05,0.9,0.05])"
   ]
  },
  {
   "cell_type": "code",
   "execution_count": 10,
   "outputs": [
    {
     "name": "stdout",
     "text": [
      "[[ 0  0  0  0  0]\n [ 0  0  0  0  0]\n [ 0  0  0  0  0]\n [ 0  0  0  0  0]\n [ 0 -1  0  0  0]]\n"
     ],
     "output_type": "stream"
    }
   ],
   "source": [
    "print(x)"
   ],
   "metadata": {
    "collapsed": false,
    "pycharm": {
     "name": "#%%\n",
     "is_executing": false
    }
   }
  },
  {
   "cell_type": "code",
   "execution_count": 11,
   "outputs": [
    {
     "data": {
      "text/plain": "array([[ 0,  0,  0,  0],\n       [ 0,  0,  0,  0],\n       [ 0,  0,  0,  0],\n       [ 0,  0,  0,  0],\n       [ 0, -1, -1,  0]])"
     },
     "metadata": {},
     "output_type": "execute_result",
     "execution_count": 11
    }
   ],
   "source": [
    "x[:,[0,1,1,0]]"
   ],
   "metadata": {
    "collapsed": false,
    "pycharm": {
     "name": "#%%\n",
     "is_executing": false
    }
   }
  },
  {
   "cell_type": "code",
   "execution_count": 11,
   "outputs": [
    {
     "name": "stdout",
     "text": [
      "33\n3\n[30 26 16]\n[ 0  1 25 12  2  3  4 17 31 20 28 24 10 11  5  6 13  7 21  8 18 22 14 29\n 27 32 19 15  9 23 30 26 16]\n"
     ],
     "output_type": "stream"
    },
    {
     "data": {
      "text/plain": "0.3333333333333333"
     },
     "metadata": {},
     "output_type": "execute_result",
     "execution_count": 11
    }
   ],
   "source": [
    "x = [1,2,3,4,5,8,9,10,11,12, 6,7,3, 10,11,12, 61,5,11,12, 6,10,11,12, 6,3,32,12,6,12,21,5,12]\n",
    "\n",
    "pop_size = len(x)\n",
    "print(pop_size)\n",
    "num_10_perc = int(len(x)*0.1)\n",
    "print(num_10_perc)\n",
    "top_positions = np.argsort(x)\n",
    "print(top_positions[-3:])\n",
    "print(top_positions)\n",
    "num_asex = len(np.where(top_positions < int(pop_size/2)))\n",
    "percent_top_asex = num_asex/num_10_perc\n",
    "percent_top_asex"
   ],
   "metadata": {
    "collapsed": false,
    "pycharm": {
     "name": "#%%\n",
     "is_executing": false
    }
   }
  },
  {
   "cell_type": "code",
   "execution_count": 19,
   "outputs": [
    {
     "data": {
      "text/plain": "[(1, 2), (3, 4), (5, 6), (7, 8), (9, 10), (11, 12)]"
     },
     "metadata": {},
     "output_type": "execute_result",
     "execution_count": 19
    }
   ],
   "source": [
    "list(pairs)"
   ],
   "metadata": {
    "collapsed": false,
    "pycharm": {
     "name": "#%%\n",
     "is_executing": false
    }
   }
  },
  {
   "cell_type": "code",
   "execution_count": null,
   "outputs": [],
   "source": [
    "\n"
   ],
   "metadata": {
    "collapsed": false,
    "pycharm": {
     "name": "#%%\n"
    }
   }
  }
 ],
 "metadata": {
  "kernelspec": {
   "display_name": "Python 3",
   "language": "python",
   "name": "python3"
  },
  "language_info": {
   "codemirror_mode": {
    "name": "ipython",
    "version": 2
   },
   "file_extension": ".py",
   "mimetype": "text/x-python",
   "name": "python",
   "nbconvert_exporter": "python",
   "pygments_lexer": "ipython2",
   "version": "2.7.6"
  },
  "pycharm": {
   "stem_cell": {
    "cell_type": "raw",
    "source": [],
    "metadata": {
     "collapsed": false
    }
   }
  }
 },
 "nbformat": 4,
 "nbformat_minor": 0
}