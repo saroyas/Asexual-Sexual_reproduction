{
 "cells": [
  {
   "cell_type": "code",
   "execution_count": 1,
   "outputs": [],
   "source": [
    "from gen_landscape import *\n",
    "from world_class_v2 import *\n",
    "import datetime\n",
    "import json\n",
    "import numpy as np"
   ],
   "metadata": {
    "collapsed": false,
    "pycharm": {
     "name": "#%%\n",
     "is_executing": false
    }
   }
  },
  {
   "cell_type": "code",
   "execution_count": 2,
   "outputs": [],
   "source": [
    "def create_world_and_run_till_end(land):\n",
    "    gia = world(population_size=10000, loci=2, gene_mean=150, gene_sd=10, proportion_asexual=0.5, survival_rate=0.7,\n",
    "                asex_repl_ratio=10 / 7, sex_repl_ratio=10 / 7, mutation_down_prob=0.05, mutation_up_prob=0.05,\n",
    "                mutation_step=1, control=4, landscape=land.fitness_grid)\n",
    "    i = 0\n",
    "    for i in range(11000):\n",
    "        if gia.population_sizes(asex=True) < 100:\n",
    "            who_won = 2\n",
    "            print('SEX WINNER')\n",
    "            break\n",
    "        elif gia.population_sizes(sex=True) < 100:\n",
    "            who_won = 1\n",
    "            print('ASEX WINNER')\n",
    "            break\n",
    "        elif i>10000:\n",
    "            who_won = 0\n",
    "            print('DRAW')\n",
    "            break\n",
    "        gia.mutation_stage()\n",
    "        gia.survival_stage()\n",
    "        gia.replication_stage()\n",
    "    return who_won\n"
   ],
   "metadata": {
    "collapsed": false,
    "pycharm": {
     "name": "#%%\n",
     "is_executing": false
    }
   }
  },
  {
   "cell_type": "code",
   "execution_count": 3,
   "outputs": [],
   "source": [
    "def isCircular(arr1, arr2):\n",
    "    if len(arr1) != len(arr2):\n",
    "        return False\n",
    "\n",
    "    str1 = ' '.join(map(str, arr1))\n",
    "    str2 = ' '.join(map(str, arr2))\n",
    "    if len(str1) != len(str2):\n",
    "        return False\n",
    "\n",
    "    return str1 in str2 + ' ' + str2"
   ],
   "metadata": {
    "collapsed": false,
    "pycharm": {
     "name": "#%%\n",
     "is_executing": false
    }
   }
  },
  {
   "cell_type": "code",
   "execution_count": 4,
   "outputs": [],
   "source": [
    "range_possible = [1,50,100]\n",
    "import itertools\n",
    "all_possible = list(itertools.product(range_possible,range_possible, range_possible, range_possible))\n",
    "final_arrangements = []\n",
    "for arrangement in all_possible:\n",
    "    no_cyclic_quivalent = True\n",
    "    for arr in final_arrangements:\n",
    "        if isCircular(arrangement, arr) == True:\n",
    "            no_cyclic_quivalent = False\n",
    "    if no_cyclic_quivalent == True:\n",
    "        final_arrangements.append(arrangement)\n"
   ],
   "metadata": {
    "collapsed": false,
    "pycharm": {
     "name": "#%%\n",
     "is_executing": false
    }
   }
  },
  {
   "cell_type": "code",
   "execution_count": 5,
   "outputs": [],
   "source": [
    "def run_assesment_of_landscape(assigned_fitness, num_times=1):\n",
    "    sex_wins, asex_wins, draws, errors = 0,0,0,0\n",
    "    assigned_fitness = np.array(assigned_fitness)\n",
    "    for n in range(num_times):\n",
    "        #try:\n",
    "        land = Landscape(num_dimensions=2, dimension_size=300, num_grid_res=3, assigned_fitness = assigned_fitness)\n",
    "        who_won = create_world_and_run_till_end(land)\n",
    "        if who_won==0:\n",
    "            draws+=1\n",
    "        elif who_won==1:\n",
    "            asex_wins+=1\n",
    "        elif who_won==2:\n",
    "            sex_wins+=1\n",
    "        print('     Arrangement Stats: Sex, Asex, Draws')\n",
    "        print('     ',arrangement, sex_wins, asex_wins, draws)\n",
    "        #except:\n",
    "        #    errors += 1\n",
    "    return (sex_wins, asex_wins, draws, errors)"
   ],
   "metadata": {
    "collapsed": false,
    "pycharm": {
     "name": "#%%\n",
     "is_executing": false
    }
   }
  },
  {
   "cell_type": "code",
   "execution_count": null,
   "outputs": [
    {
     "name": "stdout",
     "text": [
      "[[0, 150], [150, 0], [150, 150], [150, 300], [300, 150]]\n[ 1  1 50  1  1]\n"
     ],
     "output_type": "stream"
    }
   ],
   "source": [
    "data_dict = {}\n",
    "counter = 0\n",
    "for arrangement in final_arrangements:\n",
    "    arrangement1 = list(arrangement)\n",
    "    arrangement1 = arrangement1[:2]+[50]+arrangement1[2:]\n",
    "    sex_wins, asex_wins, draws, errors = run_assesment_of_landscape(assigned_fitness=arrangement1, num_times=20)\n",
    "    data_dict[counter] = (arrangement1, sex_wins, asex_wins, draws, errors)\n",
    "    counter +=1\n",
    "    print('Just finished the stuff for arrangement', arrangement1)\n",
    "    print('SEX/ASEX/DRAWS/ERRORS:',sex_wins, asex_wins, draws, errors)\n",
    "    print('===============')\n",
    "    print('Current Summary')\n",
    "    print(data_dict)"
   ],
   "metadata": {
    "collapsed": false,
    "pycharm": {
     "name": "#%%\n",
     "is_executing": true
    }
   }
  },
  {
   "cell_type": "code",
   "execution_count": null,
   "outputs": [],
   "source": [
    "print('WE ARE FINISHED')\n",
    "print('data dict')\n",
    "print(data_dict)\n",
    "\n",
    "stamp = str(datetime.datetime.now())\n",
    "filename = 'Experiment_Data\\\\two_sim_7_deg_'+stamp+'.json'\n",
    "with open(filename, 'w') as fp:\n",
    "    json.dump(data_dict, fp)"
   ],
   "metadata": {
    "collapsed": false,
    "pycharm": {
     "name": "#%%\n",
     "is_executing": true
    }
   }
  },
  {
   "cell_type": "code",
   "execution_count": null,
   "outputs": [],
   "source": [
    "\n"
   ],
   "metadata": {
    "collapsed": false,
    "pycharm": {
     "name": "#%%\n",
     "is_executing": true
    }
   }
  },
  {
   "cell_type": "code",
   "execution_count": null,
   "outputs": [],
   "source": [
    "\n"
   ],
   "metadata": {
    "collapsed": false,
    "pycharm": {
     "name": "#%%\n"
    }
   }
  }
 ],
 "metadata": {
  "kernelspec": {
   "display_name": "Python 3",
   "language": "python",
   "name": "python3"
  },
  "language_info": {
   "codemirror_mode": {
    "name": "ipython",
    "version": 2
   },
   "file_extension": ".py",
   "mimetype": "text/x-python",
   "name": "python",
   "nbconvert_exporter": "python",
   "pygments_lexer": "ipython2",
   "version": "2.7.6"
  },
  "pycharm": {
   "stem_cell": {
    "cell_type": "raw",
    "source": [],
    "metadata": {
     "collapsed": false
    }
   }
  }
 },
 "nbformat": 4,
 "nbformat_minor": 0
}