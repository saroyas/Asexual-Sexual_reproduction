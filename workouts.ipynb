{
 "cells": [
  {
   "cell_type": "code",
   "execution_count": 7,
   "outputs": [],
   "source": [
    "from gen_landscape import *\n",
    "from world_class_v2 import *\n",
    "import datetime\n",
    "import json"
   ],
   "metadata": {
    "collapsed": false,
    "pycharm": {
     "name": "#%%\n",
     "is_executing": false
    }
   }
  },
  {
   "cell_type": "code",
   "execution_count": 8,
   "outputs": [],
   "source": [
    "def create_world_and_run_till_end(land):\n",
    "    gia = world(population_size=10000, loci=2, gene_mean=150, gene_sd=10, proportion_asexual=0.5, survival_rate=0.7,\n",
    "                asex_repl_ratio=10 / 7, sex_repl_ratio=10 / 7, mutation_down_prob=0.05, mutation_up_prob=0.05,\n",
    "                mutation_step=1, control=4, landscape=land.fitness_grid)\n",
    "    i = 0\n",
    "    for i in range(11000):\n",
    "        if gia.population_sizes(asex=True) < 100:\n",
    "            who_won = 2\n",
    "            print('SEX WINNER')\n",
    "            break\n",
    "        elif gia.population_sizes(sex=True) < 100:\n",
    "            who_won = 1\n",
    "            print('ASEX WINNER')\n",
    "            break\n",
    "        elif i>10000:\n",
    "            who_won = 0\n",
    "            print('DRAW')\n",
    "            break\n",
    "        gia.mutation_stage()\n",
    "        gia.survival_stage()\n",
    "        gia.replication_stage()\n",
    "        if i % 500 == 0:\n",
    "            print('     Indide a single world simulation:', i)\n",
    "            print('     Asex population percentage:', gia.population_sizes(asex=True) / gia.population_sizes(total=True))\n",
    "            print('===================================')\n",
    "    return who_won"
   ],
   "metadata": {
    "collapsed": false,
    "pycharm": {
     "name": "#%%\n",
     "is_executing": false
    }
   }
  },
  {
   "cell_type": "code",
   "execution_count": 9,
   "outputs": [],
   "source": [
    "def calc_win_stats(data_dict):\n",
    "    sex, asex, draws = 0, 0, 0\n",
    "    for key in data_dict.keys():\n",
    "        (land.chosen_points, who_won) = data_dict[key]\n",
    "        if who_won==1:\n",
    "            asex +=1\n",
    "        elif who_won == 2:\n",
    "            sex +=1\n",
    "        elif who_won == 0:\n",
    "            draws += 1\n",
    "    print('Current Overall Statistics:')\n",
    "    print('Sex wins:', sex, ' Asex wins:', asex, ' Draws:', draws)"
   ],
   "metadata": {
    "collapsed": false,
    "pycharm": {
     "name": "#%%\n",
     "is_executing": false
    }
   }
  },
  {
   "cell_type": "code",
   "execution_count": 10,
   "outputs": [],
   "source": [
    "range_tens = range(0,101, 10)\n",
    "def gen_assigned_values(range = range_tens):\n",
    "    fst_part = np.random.choice(range_tens, 4).tolist()\n",
    "    centre_of_space = 50\n",
    "    snd_part = np.random.choice(range_tens, 4).tolist()\n",
    "    assigned_values = np.asarray(fst_part+[centre_of_space]+snd_part)\n",
    "    return assigned_values"
   ],
   "metadata": {
    "collapsed": false,
    "pycharm": {
     "name": "#%%\n",
     "is_executing": false
    }
   }
  },
  {
   "cell_type": "code",
   "execution_count": 11,
   "outputs": [
    {
     "name": "stdout",
     "text": [
      "[100  10  20  50  50  90 100  50  90]\n     Indide a single world simulation: 0\n     Asex population percentage: 0.5003\n===================================\n",
      "ASEX WINNER\nJust finished world number 0\nCurrent Overall Statistics:\nSex wins: 0  Asex wins: 1  Draws: 0\n[20 20 80 80 50  0 70 70 50]\n     Indide a single world simulation: 0\n     Asex population percentage: 0.5019\n===================================\n",
      "     Indide a single world simulation: 500\n     Asex population percentage: 0.1504\n===================================\n",
      "SEX WINNER\nJust finished world number 1\nCurrent Overall Statistics:\nSex wins: 1  Asex wins: 1  Draws: 0\nWE ARE FINISHED\ndata dict\n{0: ([100, 10, 20, 50, 50, 90, 100, 50, 90], 1), 1: ([20, 20, 80, 80, 50, 0, 70, 70, 50], 2)}\n"
     ],
     "output_type": "stream"
    }
   ],
   "source": [
    "land_num = 0\n",
    "data_dict = {}\n",
    "grid_res = 3\n",
    "for n in range(2):\n",
    "    land = Landscape(num_dimensions=2, dimension_size=300, num_grid_res=grid_res, assigned_fitness = gen_assigned_values())\n",
    "    print(land.assigned_fitness)\n",
    "    who_won = create_world_and_run_till_end(land)\n",
    "    assigned_fitness = land.assigned_fitness.tolist()\n",
    "    data_dict[n] = (assigned_fitness, who_won)\n",
    "    print('Just finished world number', n)\n",
    "    calc_win_stats(data_dict)\n",
    "\n",
    "print('WE ARE FINISHED')\n",
    "print('data dict')\n",
    "print(data_dict)\n",
    "\n",
    "stamp = str(datetime.datetime.now())\n",
    "filename = 'Experiment_Data\\\\two_sim_7_deg_'+stamp+'.json'\n",
    "with open(filename, 'w') as fp:\n",
    "    json.dump(data_dict, fp)"
   ],
   "metadata": {
    "collapsed": false,
    "pycharm": {
     "name": "#%%\n",
     "is_executing": false
    }
   }
  },
  {
   "cell_type": "code",
   "execution_count": 12,
   "outputs": [
    {
     "name": "stdout",
     "text": [
      "hello\n"
     ],
     "output_type": "stream"
    }
   ],
   "source": [
    "print('hello')"
   ],
   "metadata": {
    "collapsed": false,
    "pycharm": {
     "name": "#%%\n",
     "is_executing": false
    }
   }
  },
  {
   "cell_type": "code",
   "execution_count": null,
   "outputs": [],
   "source": [
    "\n"
   ],
   "metadata": {
    "collapsed": false,
    "pycharm": {
     "name": "#%%\n"
    }
   }
  }
 ],
 "metadata": {
  "kernelspec": {
   "display_name": "Python 3",
   "language": "python",
   "name": "python3"
  },
  "language_info": {
   "codemirror_mode": {
    "name": "ipython",
    "version": 2
   },
   "file_extension": ".py",
   "mimetype": "text/x-python",
   "name": "python",
   "nbconvert_exporter": "python",
   "pygments_lexer": "ipython2",
   "version": "2.7.6"
  },
  "pycharm": {
   "stem_cell": {
    "cell_type": "raw",
    "source": [],
    "metadata": {
     "collapsed": false
    }
   }
  }
 },
 "nbformat": 4,
 "nbformat_minor": 0
}