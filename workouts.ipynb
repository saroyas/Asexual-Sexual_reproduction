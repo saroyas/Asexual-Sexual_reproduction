{
 "cells": [
  {
   "cell_type": "code",
   "execution_count": 1,
   "outputs": [],
   "source": [
    "import matplotlib.pyplot as plt\n",
    "import matplotlib.animation\n",
    "import seaborn as sns\n",
    "import numpy as np\n",
    "import json"
   ],
   "metadata": {
    "collapsed": false,
    "pycharm": {
     "name": "#%%\n",
     "is_executing": false
    }
   }
  },
  {
   "cell_type": "code",
   "execution_count": 2,
   "outputs": [
    {
     "name": "stdout",
     "text": [
      "sucesfully loaded stuff\n"
     ],
     "output_type": "stream"
    }
   ],
   "source": [
    "with open('data.json', 'r') as fp:\n",
    "    total_plot_data = json.load(fp)\n",
    "    print('sucesfully loaded stuff')\n",
    "\n",
    "def get_data(sex = True):\n",
    "    data = {}\n",
    "    if sex == True:\n",
    "        for i in list(total_plot_data.keys()):\n",
    "            k = int(i)\n",
    "            data[k] = (total_plot_data[i])['sex']\n",
    "    else:\n",
    "        for i in list(total_plot_data.keys()):\n",
    "            k = int(i)\n",
    "            data[k] = (total_plot_data[i])['asex']\n",
    "    return data\n",
    "\n",
    "sex_data = get_data(sex = True)\n",
    "asex_data = get_data(sex = False)"
   ],
   "metadata": {
    "collapsed": false,
    "pycharm": {
     "name": "#%%\n",
     "is_executing": false
    }
   }
  },
  {
   "cell_type": "code",
   "execution_count": 5,
   "outputs": [
    {
     "data": {
      "text/plain": "{}"
     },
     "metadata": {},
     "output_type": "execute_result",
     "execution_count": 5
    }
   ],
   "source": [
    "sex_data"
   ],
   "metadata": {
    "collapsed": false,
    "pycharm": {
     "name": "#%%\n",
     "is_executing": false
    }
   }
  },
  {
   "cell_type": "code",
   "execution_count": null,
   "outputs": [],
   "source": [
    "x, y = sex_data['1'][0],sex_data['1'][1]\n",
    "g = sns.JointGrid(x, y, size=8)\n",
    "lim = (10,50)"
   ],
   "metadata": {
    "collapsed": false,
    "pycharm": {
     "name": "#%%\n"
    }
   }
  },
  {
   "cell_type": "code",
   "execution_count": null,
   "outputs": [],
   "source": [
    "def prep_axes(g, xlim, ylim):\n",
    "    g.ax_joint.clear()\n",
    "    g.ax_joint.set_xlim(xlim)\n",
    "    g.ax_joint.set_ylim(ylim)\n",
    "    g.ax_marg_x.clear()\n",
    "    g.ax_marg_x.set_xlim(xlim)\n",
    "    g.ax_marg_y.clear()\n",
    "    g.ax_marg_y.set_ylim(ylim)\n",
    "    plt.setp(g.ax_marg_x.get_xticklabels(), visible=False)\n",
    "    plt.setp(g.ax_marg_y.get_yticklabels(), visible=False)\n",
    "    plt.setp(g.ax_marg_x.yaxis.get_majorticklines(), visible=False)\n",
    "    plt.setp(g.ax_marg_x.yaxis.get_minorticklines(), visible=False)\n",
    "    plt.setp(g.ax_marg_y.xaxis.get_majorticklines(), visible=False)\n",
    "    plt.setp(g.ax_marg_y.xaxis.get_minorticklines(), visible=False)\n",
    "    plt.setp(g.ax_marg_x.get_yticklabels(), visible=False)\n",
    "    plt.setp(g.ax_marg_y.get_xticklabels(), visible=False)"
   ],
   "metadata": {
    "collapsed": false,
    "pycharm": {
     "name": "#%%\n"
    }
   }
  },
  {
   "cell_type": "code",
   "execution_count": null,
   "outputs": [],
   "source": [
    "def animate(i):\n",
    "    prep_axes(g, lim, lim)\n",
    "    g.x, g.y = sex_data[i][0],sex_data[i][1]\n",
    "    g.plot_joint(sns.kdeplot, cmap=\"Reds\")\n",
    "    g.plot_marginals(sns.kdeplot, color=\"r\", shade=True)\n",
    "    g.x, g.y = asex_data[i][0],asex_data[i][1]\n",
    "    g.plot_joint(sns.kdeplot, cmap=\"Blues\")\n",
    "    g.plot_marginals(sns.kdeplot, color=\"b\", shade=True)\n",
    "\n",
    "frames=range(250,500)\n",
    "ani = matplotlib.animation.FuncAnimation(g.fig, animate, frames=frames, repeat=True)\n",
    "\n",
    "plt.show()\n",
    "\n",
    "\n",
    "\n"
   ],
   "metadata": {
    "collapsed": false,
    "pycharm": {
     "name": "#%%\n"
    }
   }
  }
 ],
 "metadata": {
  "kernelspec": {
   "display_name": "Python 3",
   "language": "python",
   "name": "python3"
  },
  "language_info": {
   "codemirror_mode": {
    "name": "ipython",
    "version": 2
   },
   "file_extension": ".py",
   "mimetype": "text/x-python",
   "name": "python",
   "nbconvert_exporter": "python",
   "pygments_lexer": "ipython2",
   "version": "2.7.6"
  },
  "pycharm": {
   "stem_cell": {
    "cell_type": "raw",
    "source": [],
    "metadata": {
     "collapsed": false
    }
   }
  }
 },
 "nbformat": 4,
 "nbformat_minor": 0
}