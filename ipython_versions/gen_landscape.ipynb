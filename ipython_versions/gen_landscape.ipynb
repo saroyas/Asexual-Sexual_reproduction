{
 "cells": [
  {
   "cell_type": "code",
   "execution_count": null,
   "outputs": [],
   "source": [
    "import matplotlib.pyplot as plt\n",
    "import matplotlib.animation\n",
    "import seaborn as sns\n",
    "import numpy as np\n",
    "import json\n",
    "import itertools\n",
    "from scipy.interpolate import griddata\n",
    "import pylab as p\n",
    "import mpl_toolkits.mplot3d.axes3d as p3\n"
   ],
   "metadata": {
    "collapsed": false,
    "pycharm": {
     "name": "#%%\n"
    }
   }
  },
  {
   "cell_type": "code",
   "execution_count": null,
   "outputs": [],
   "source": [
    "class Landscape():\n",
    "    def __init__(self, num_dimensions, dimension_size, num_grid_res=7, list = []):\n",
    "        self.num_dims = num_dimensions\n",
    "        self.dim_size = dimension_size\n",
    "        self.num_grid_res = num_grid_res\n",
    "        self.chosen_points = self.gen_chosen_points()\n",
    "        self.fitness_grid = self.gen_landscape()\n",
    "        self.assigned_fitness = list\n",
    "\n",
    "    def gen_chosen_points(self):\n",
    "        k = complex(0, self.num_grid_res)\n",
    "        grid_x, grid_y = np.mgrid[0:self.dim_size:k, 0:self.dim_size:k]\n",
    "        return np.vstack((grid_x.ravel(), grid_y.ravel())).T\n",
    "\n",
    "    def uniform_rand_fit_assign(self, min=1, max=100):\n",
    "        num_rand_points = self.chosen_points.shape[0]\n",
    "        rand_fitness_array = np.random.random_integers(min, max, num_rand_points)\n",
    "        return rand_fitness_array\n",
    "\n",
    "    def gen_landscape(self):\n",
    "        if self.assigned_fitness == []:\n",
    "            self.assigned_fitness = self.uniform_rand_fit_assign()\n",
    "        grid_x, grid_y = np.mgrid[0:self.dim_size, 0:self.dim_size]\n",
    "        return griddata(self.chosen_points, self.assigned_fitness, (grid_x, grid_y), method='cubic')\n",
    "\n",
    "    def draw_2d_in_3d(self, elevation_deg=80, rotation_deg=90*3):\n",
    "        grid_x, grid_y = np.mgrid[0:self.dim_size, 0:self.dim_size]\n",
    "        fig = p.figure()\n",
    "        ax = p3.Axes3D(fig)\n",
    "        # ax.plot_wireframe(grid_x,grid_y,self.fitness_grid, color = 'black')\n",
    "        ax.contour3D(grid_x, grid_y, self.fitness_grid, 50, cmap=plt.cm.viridis)\n",
    "        ax.set_xlabel('loci_0')\n",
    "        ax.set_ylabel('loci_1')\n",
    "        ax.set_zlabel('Fitness')\n",
    "        ax.view_init(elevation_deg, rotation_deg)\n",
    "        p.show()\n",
    "\n",
    "    def draw_2d(self):\n",
    "        plt.plot(self.chosen_points[:, 0], self.chosen_points[:, 1], 'k.', ms=10)\n",
    "        plt.imshow(self.fitness_grid.T, extent=(0, self.dim_size, 0, self.dim_size), origin='lower')\n",
    "        plt.title('Cubic')\n",
    "        plt.gcf().set_size_inches(10, 10)\n",
    "        plt.show()\n",
    "\n",
    "    def draw_2d_sea(self):\n",
    "        grid_x, grid_y = range(self.dim_size), range(self.dim_size)\n",
    "        fig = plt.figure()\n",
    "        ax = fig.gca(projection='3d')\n",
    "        ax.plot_trisurf(grid_x, grid_y, self.fitness_grid, cmap=plt.cm.viridis, linewidth=0.2)\n",
    "        plt.show()\n",
    "\n"
   ],
   "metadata": {
    "collapsed": false,
    "pycharm": {
     "name": "#%%\n"
    }
   }
  },
  {
   "cell_type": "code",
   "execution_count": null,
   "outputs": [],
   "source": [
    "\n"
   ],
   "metadata": {
    "collapsed": false,
    "pycharm": {
     "name": "#%%\n"
    }
   }
  }
 ],
 "metadata": {
  "kernelspec": {
   "display_name": "Python 3",
   "language": "python",
   "name": "python3"
  },
  "language_info": {
   "codemirror_mode": {
    "name": "ipython",
    "version": 2
   },
   "file_extension": ".py",
   "mimetype": "text/x-python",
   "name": "python",
   "nbconvert_exporter": "python",
   "pygments_lexer": "ipython2",
   "version": "2.7.6"
  },
  "pycharm": {
   "stem_cell": {
    "cell_type": "raw",
    "source": [],
    "metadata": {
     "collapsed": false
    }
   }
  }
 },
 "nbformat": 4,
 "nbformat_minor": 0
}