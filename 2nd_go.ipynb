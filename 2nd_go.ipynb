{
 "cells": [
  {
   "cell_type": "code",
   "execution_count": 1,
   "metadata": {
    "collapsed": true,
    "pycharm": {
     "is_executing": false
    }
   },
   "outputs": [],
   "source": [
    "import matplotlib.pyplot as plt\n",
    "import itertools\n",
    "import random\n",
    "import copy\n",
    "import numpy as np\n",
    "import matplotlib\n",
    "import matplotlib.pyplot as plt\n",
    "from scipy.ndimage import convolve\n",
    "from operator import itemgetter\n",
    "from itertools import groupby\n",
    "%matplotlib inline\n",
    "import statistics"
   ]
  },
  {
   "cell_type": "code",
   "execution_count": null,
   "outputs": [],
   "source": [
    "class world():\n",
    "    def __init__(self, energy = 800*20, time = 0, outside_kill_zone = 500, initial_species_mean = 500, sd=50, loci = 20):\n",
    "        '''\n",
    "        we want here a fitness landscape, how much energy the world can provide for each time unit - \n",
    "        which has some notion of disaster and greatness incorporated into it - i.e. it fluctuates.\n",
    "        The fitness function defines what proportion of teh energy each organism recieves\n",
    "        then the energy defines how likely an organism is to survive - maybe also how likely they are to reproduce\n",
    "        '''\n",
    "        self.energy = energy # LATER WE MAKE THIS A SORTOFF RANDOM FUNCTION OF TIME PERIOD\n",
    "        self.loci = loci\n",
    "        self.outside_kill_zone = outside_kill_zone\n",
    "        self.initial_species_mean = initial_species_mean\n",
    "        self.total_pop_mat = self.species_matrix = np.random.normal(mean = self.initial_species_mean, sd =sd, (loci, 2000))\n",
    "        self.species_sep_index = 1000\n",
    "    \n",
    "    def kill_organisms(self, kill_list):\n",
    "        # AGAIN WE NEED TO GENERALISE THIS, BUT FOR NOW IT WORKS WITH TWO SPECIES\n",
    "        self.total_pop_mat = np.delete(self.total_pop_mat, kill_list, axis=1)\n",
    "        \n",
    "        old_index = self.species_sep_index\n",
    "        self.species_sep_index = old_index - len(np.where(kill_list<old_index))\n",
    "\n",
    "        \n",
    "    def outside_region_kill(self):\n",
    "        #here we want to kill any organisms that fall into the kill zone\n",
    "        #this kill zone is defined as when any gene number is self.insta_kill_zone away from the orignal mean (1000)\n",
    "        outside_kill_zone = self.outside_kill_zone\n",
    "        killer_gene_locations = np.where(abs(self.gen_tot_pop_mat()-self.initial_species_mean)>outside_kill_zone)\n",
    "        kill_organisms = [x[1] for x in killer_gene_locations]\n",
    "        self.kill_organisms(kill_organisms)\n",
    "  \n",
    "        \n",
    "    def mutation_stage(self, step = 1, mutation_liklihood = 0.02):\n",
    "        # OKAY, WHETHER OR NOT A MUTATION IS GOOD CRUCIALL DEPENDS ON THE FITNESS LANDSCAPE\n",
    "        # IT WILL BE MORE GENERAL IF WE INDEED MAKE MUTATIONS RANDOM AND THE FITNESS LANDSCALE SUCH THAT MOST\n",
    "        # RANDOM MUTATIONS ARE HARMFUL\n",
    "        shape = (self.total_pop_mat).shape\n",
    "        half_liklihood = mutation_liklihood/2\n",
    "        mutation_matrix = np.random.choice([-step, 0, step], size=shape, p=[half_liklihood, 1-mutation_liklihood,half_liklihood])\n",
    "        self.total_pop_mat = self.total_pop_mat + mutation_matrix\n",
    "        \n",
    "    def survival_prob(self):\n",
    "        #for now we will do a simple sum for fitness, this should lead to the population evolving to the corners \n",
    "        #of the allowed distribution. Later we will try more interesting and random fitness landscapes\n",
    "        #with different levels of jaggedness\n",
    "        fitness_array = np.sum(self.total_pop_mat, axis=1) # THIS NEEDS TO BE MOVED TO SEP FUNCTION\n",
    "        total_fitness = np.sum(fitness_array)\n",
    "        prop_fitness = np.devide(fitness_array, total_fitness) # AGAIN THIS NEEDS TO BE RETHOUGHT\n",
    "        return prop_fitness\n",
    "    \n",
    "    def survival_round(self):\n",
    "        number_surviving = self.energy/self.loci\n",
    "        curr_population_size = ((self.total_pop_mat).shape)[2]\n",
    "        prop_fitness = self.fitness()\n",
    "        \n",
    "        \n",
    "        \n",
    "        \n",
    "\n",
    "class species():\n",
    "    def __init__(self, loci = 20, size = 1000, mean = 1000, sd = 30, type = 0):\n",
    "        self.loci = loci\n",
    "        self.size = 1000\n",
    "        self.type = type\n",
    "        self.species_matrix = np.random.normal(mean, sd, (loci, size))\n",
    "        \n",
    "    def update(self):\n",
    "        self.size = (self.species_matrix.shape)[1]\n",
    "    \n",
    "\n",
    "def mutation(pop_1, pop_2, prob_neg = 0.01, prob_pos = 0.001):\n",
    "    total_pop_matrix = \n",
    "    \n",
    "    "
   ],
   "metadata": {
    "collapsed": false,
    "pycharm": {
     "name": "#%%\n"
    }
   }
  },
  {
   "cell_type": "code",
   "execution_count": null,
   "outputs": [],
   "source": [],
   "metadata": {
    "collapsed": false,
    "pycharm": {
     "name": "#%%\n"
    }
   }
  }
 ],
 "metadata": {
  "kernelspec": {
   "display_name": "Python 3",
   "language": "python",
   "name": "python3"
  },
  "language_info": {
   "codemirror_mode": {
    "name": "ipython",
    "version": 2
   },
   "file_extension": ".py",
   "mimetype": "text/x-python",
   "name": "python",
   "nbconvert_exporter": "python",
   "pygments_lexer": "ipython2",
   "version": "2.7.6"
  },
  "pycharm": {
   "stem_cell": {
    "cell_type": "raw",
    "source": [],
    "metadata": {
     "collapsed": false
    }
   }
  }
 },
 "nbformat": 4,
 "nbformat_minor": 0
}