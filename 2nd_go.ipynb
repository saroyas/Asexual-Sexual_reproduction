{
 "cells": [
  {
   "cell_type": "code",
   "execution_count": 5,
   "metadata": {
    "collapsed": true,
    "pycharm": {
     "is_executing": false
    }
   },
   "outputs": [],
   "source": [
    "import matplotlib.pyplot as plt\n",
    "import itertools\n",
    "import random\n",
    "import copy\n",
    "import numpy as np\n",
    "import matplotlib\n",
    "import matplotlib.pyplot as plt\n",
    "from scipy.ndimage import convolve\n",
    "from operator import itemgetter\n",
    "from itertools import groupby\n",
    "%matplotlib inline\n",
    "import statistics"
   ]
  },
  {
   "cell_type": "code",
   "execution_count": 113,
   "outputs": [
    {
     "traceback": [
      "\u001b[0;36m  File \u001b[0;32m\"<ipython-input-113-3fba58faea52>\"\u001b[0;36m, line \u001b[0;32m66\u001b[0m\n\u001b[0;31m    print(len(np.where(survivor_list<old_index))\u001b[0m\n\u001b[0m        ^\u001b[0m\n\u001b[0;31mSyntaxError\u001b[0m\u001b[0;31m:\u001b[0m invalid syntax\n"
     ],
     "ename": "SyntaxError",
     "evalue": "invalid syntax (<ipython-input-113-3fba58faea52>, line 66)",
     "output_type": "error"
    }
   ],
   "source": [
    "class world():\n",
    "    def __init__(self, energy = 800*20, time = 0, outside_kill_zone = 500, initial_species_mean = 500, sd=50, loci = 20, total_pop = 2000, replication_ratio = 1.2):\n",
    "        '''\n",
    "        NOTE; SEXUAL IS REALLY HERMAPHRODITIC IN THIS PROGRAM\n",
    "        we want here a fitness landscape, how much energy the world can provide for each time unit - \n",
    "        which has some notion of disaster and greatness incorporated into it - i.e. it fluctuates.\n",
    "        The fitness function defines what proportion of teh energy each organism recieves\n",
    "        then the energy defines how likely an organism is to survive - maybe also how likely they are to reproduce\n",
    "        '''\n",
    "        self.energy = energy # LATER WE MAKE THIS A SORTOFF RANDOM FUNCTION OF TIME PERIOD\n",
    "        self.loci = loci\n",
    "        self.outside_kill_zone = outside_kill_zone\n",
    "        self.initial_species_mean = initial_species_mean\n",
    "        self.total_pop_mat = (np.random.normal(self.initial_species_mean, sd, (loci, total_pop))).astype(int)\n",
    "        self.species_sep_index = int(total_pop/2)\n",
    "        self.fitness_array = []\n",
    "        self.replication_ratio = replication_ratio\n",
    "    \n",
    "    def kill_organisms(self, kill_list):\n",
    "        # AGAIN WE NEED TO GENERALISE THIS, BUT FOR NOW IT WORKS WITH TWO SPECIES\n",
    "        self.total_pop_mat = np.delete(self.total_pop_mat, kill_list, axis=1)\n",
    "        \n",
    "        old_index = self.species_sep_index\n",
    "        self.species_sep_index = old_index - len(np.where(kill_list<old_index))\n",
    "\n",
    "        \n",
    "    def outside_region_kill(self):\n",
    "        #here we want to kill any organisms that fall into the kill zone\n",
    "        #this kill zone is defined as when any gene number is self.insta_kill_zone away from the orignal mean (1000)\n",
    "        outside_kill_zone = self.outside_kill_zone\n",
    "        killer_gene_locations = np.where(abs(self.gen_tot_pop_mat()-self.initial_species_mean)>outside_kill_zone)\n",
    "        kill_organisms = [x[1] for x in killer_gene_locations]\n",
    "        self.kill_organisms(kill_organisms)\n",
    "  \n",
    "        \n",
    "    def mutation_stage(self, step = 1, mutation_liklihood = 0.02):\n",
    "        # OKAY, WHETHER OR NOT A MUTATION IS GOOD CRUCIALL DEPENDS ON THE FITNESS LANDSCAPE\n",
    "        # IT WILL BE MORE GENERAL IF WE INDEED MAKE MUTATIONS RANDOM AND THE FITNESS LANDSCALE SUCH THAT MOST\n",
    "        # RANDOM MUTATIONS ARE HARMFUL\n",
    "        shape = (self.total_pop_mat).shape\n",
    "        half_liklihood = mutation_liklihood/2\n",
    "        mutation_matrix = np.random.choice([-step, 0, step], size=shape, p=[half_liklihood, 1-mutation_liklihood,half_liklihood])\n",
    "        self.total_pop_mat = self.total_pop_mat + mutation_matrix\n",
    "        \n",
    "    def calc_fitness_array(self):\n",
    "        self.fitness_array = np.sum(self.total_pop_mat, axis=0)\n",
    "        \n",
    "    def survival_prob(self):\n",
    "        #for now we will do a simple sum for fitness, this should lead to the population evolving to the corners \n",
    "        #of the allowed distribution. Later we will try more interesting and random fitness landscapes\n",
    "        #with different levels of jaggedness\n",
    "        self.calc_fitness_array()\n",
    "        total_fitness = np.sum(self.fitness_array)\n",
    "        prop_fitness = np.divide(self.fitness_array, total_fitness) # AGAIN THIS NEEDS TO BE RETHOUGHT\n",
    "        return prop_fitness, total_fitness\n",
    "    \n",
    "    def survival_round(self):\n",
    "        number_surviving = int(self.energy/self.loci)\n",
    "        curr_population_index = range(((self.total_pop_mat).shape)[1])\n",
    "        prop_fitness = (self.survival_prob())[0]\n",
    "        survivor_list = np.random.choice(curr_population_index, number_surviving, replace = False, p = prop_fitness)\n",
    "        self.total_pop_mat = (self.total_pop_mat)[:,survivor_list]\n",
    "        print(self.species_sep_index)\n",
    "        old_index = self.species_sep_index\n",
    "        print(np.where(survivor_list<old_index)\n",
    "        print(len(np.where(survivor_list<old_index))\n",
    "        self.species_sep_index = len(np.where(survivor_list<old_index))\n",
    "        self.fitness_array = self.fitness_array[survivor_list]\n",
    "        print(self.species_sep_index)\n",
    "    \n",
    "            \n",
    "    \n",
    "    def asex_repl(self,asex_pop):\n",
    "        size_of_parent_gen = asex_pop.shape[1]\n",
    "        next_gen_size = int(size_of_parent_gen*(10/8))\n",
    "        #in ASEXUAL REPLICATION, everyone living replicates, then the excess energy is used to\n",
    "        # ramdomly replicate a few more organisms: next_gen_additionals\n",
    "        next_gen_additional_size = next_gen_size - size_of_parent_gen\n",
    "        next_gen_additional_chosen_index = random.sample(range(size_of_parent_gen), next_gen_additional_size)\n",
    "        next_gen_additions = asex_pop[:, next_gen_additional_chosen_index]\n",
    "        print(asex_pop)\n",
    "        print(next_gen_additions)\n",
    "        next_gen = np.concatenate([asex_pop, next_gen_additions], axis=1)\n",
    "        return next_gen\n",
    "    \n",
    "    def mating_pairs(self, index_to_be_paired_and_mated, sex_pop):\n",
    "        random.shuffle(index_to_be_paired_and_mated)\n",
    "        offspring = []\n",
    "        ones_loci = np.ones(shape = (1, self.loci))\n",
    "        mating_pairs = zip(index_to_be_paired_and_mated[0::2], index_to_be_paired_and_mated[1::2])\n",
    "        for pair in mating_pairs:\n",
    "            (a,b) = pair\n",
    "            parent_1 = sex_pop[:,a]\n",
    "            parent_2 = sex_pop[:,b]\n",
    "            parent_1_gene_index = np.random.randint(2, size=(1,self.loci))\n",
    "            parent_1_genes = np.multiply(parent_1_gene_index, parent_1)\n",
    "            \n",
    "            parent_2_gene_index = np.subtract(ones_loci, parent_1_genes)\n",
    "            parent_2_genes = np.multiply(parent_2_gene_index, parent_2)\n",
    "            \n",
    "            offspring_genes = np.add(parent_1_genes, parent_2_genes)\n",
    "            offspring.append(offspring_genes)\n",
    "        \n",
    "        return offspring\n",
    "    \n",
    "    def sex_repl(self, sex_pop, mating_rounds = 2):\n",
    "        #CURRENTLY GROSSLY INEFFICIENT, WE NEED TO MAKE THIS FASTER SOMEHOW\n",
    "        \n",
    "        size_of_parent_gen = sex_pop.shape[1]\n",
    "        next_gen_size = int(size_of_parent_gen*(10/8))\n",
    "        next_gen_additional_size = next_gen_size - size_of_parent_gen\n",
    "        #WE RUN TWO BASIC ROUNDS OF REPLICATION\n",
    "        #WHERE EVERYONE IS RANDOMLY PAIRED TO PRODUCE ONE OFFSPRING\n",
    "        # WE NEED TO RECONSIDER THIS TO ACCOUNT FOR THE FACT THAT SEXUAL REPLICATION\n",
    "        #IS A LOT SLOWER THAN ASEXUAL REPLICATION\n",
    "        parents_index = list(range(size_of_parent_gen))\n",
    "        \n",
    "        if size_of_parent_gen%2 == 1:\n",
    "            random.shuffle(parents_index)\n",
    "            del parents_index[-1]\n",
    "        \n",
    "        #RIGHT NOW WE ONLY HAVE TWO MATING ROUNDS!, AND THEN THE EXTRA ENERGY ON AN EXTRA NOT FULL ROUND  \n",
    "        #LATER WE MAY NEED TO GENERALISE TO FEWER\n",
    "        offspring_from_full_rounds = (self.mating_pairs(parents_index, sex_pop)) + (self.mating_pairs(parents_index, sex_pop))\n",
    "    \n",
    "        chosen_for_rereplication = parents_index[:(2*next_gen_additional_size)]\n",
    "        offspring_extra = self.mating_pairs(chosen_for_rereplication, sex_pop)\n",
    "        \n",
    "        total_offspring = np.asarray(offspring_from_full_rounds + offspring_extra)\n",
    "        \n",
    "        return total_offspring\n",
    "        \n",
    "\n",
    "        \n",
    "    def replication_round(self):\n",
    "        #HERE IS THE ONLY PLACE WHERE THE TWO SPECIES ARE CONSIDERED SEPERATELY\n",
    "        #THIS IS WHERE THE species_sep_index becomes relevant\n",
    "        #CURRENTLY WE DO REPLICATION NOT BASED ON FITNESS:\n",
    "        #asex_fitness_array = self.fitness_array[0:self.species_sep_index]\n",
    "        #total_asex_fitness = np.sum(asex_fitness_array)\n",
    "        \n",
    "        pop_size = (self.total_pop_mat).shape[1]\n",
    "        \n",
    "        asex_pop = self.total_pop_mat[:, 0:self.species_sep_index]\n",
    "        sex_pop = self.total_pop_mat[:, self.species_sep_index:]\n",
    "\n",
    "        new_asex_pop = self.asex_repl(asex_pop)\n",
    "        new_sex_pop = self.sex_repl(sex_pop)\n",
    "        self.total_pop_mat = np.concatenate([new_asex_pop,new_sex_pop], axis=1)\n",
    "        self.species_sep_index = (new_asex_pop.shape)[1]\n",
    "    "
   ],
   "metadata": {
    "collapsed": false,
    "pycharm": {
     "name": "#%%\n",
     "is_executing": false
    }
   }
  },
  {
   "cell_type": "code",
   "execution_count": 114,
   "outputs": [],
   "source": [
    "gia = world(energy = 800*5, time=0, outside_kill_zone=500, initial_species_mean=500, sd = 50, loci=5, total_pop=1000, replication_ratio=1.2)"
   ],
   "metadata": {
    "collapsed": false,
    "pycharm": {
     "name": "#%%\n",
     "is_executing": false
    }
   }
  },
  {
   "cell_type": "code",
   "execution_count": 115,
   "outputs": [
    {
     "name": "stdout",
     "text": [
      "[[488 526 540 ... 577 606 509]\n [605 555 483 ... 464 449 471]\n [586 495 505 ... 491 597 481]\n [496 596 498 ... 427 599 560]\n [517 479 503 ... 482 584 489]]\n500\n1\n[[508]\n [436]\n [518]\n [548]\n [505]]\n[]\nas\n(5, 1)\n[[508]\n [436]\n [518]\n [548]\n [505]]\n(997, 1, 5)\n"
     ],
     "output_type": "stream"
    },
    {
     "traceback": [
      "\u001b[0;31m---------------------------------------------------------------------------\u001b[0m",
      "\u001b[0;31mValueError\u001b[0m                                Traceback (most recent call last)",
      "\u001b[0;32m<ipython-input-115-2d2889509470>\u001b[0m in \u001b[0;36m<module>\u001b[0;34m\u001b[0m\n\u001b[1;32m      2\u001b[0m \u001b[0mprint\u001b[0m\u001b[0;34m(\u001b[0m\u001b[0mgia\u001b[0m\u001b[0;34m.\u001b[0m\u001b[0mtotal_pop_mat\u001b[0m\u001b[0;34m)\u001b[0m\u001b[0;34m\u001b[0m\u001b[0;34m\u001b[0m\u001b[0m\n\u001b[1;32m      3\u001b[0m \u001b[0mgia\u001b[0m\u001b[0;34m.\u001b[0m\u001b[0msurvival_round\u001b[0m\u001b[0;34m(\u001b[0m\u001b[0;34m)\u001b[0m\u001b[0;34m\u001b[0m\u001b[0;34m\u001b[0m\u001b[0m\n\u001b[0;32m----> 4\u001b[0;31m \u001b[0mgia\u001b[0m\u001b[0;34m.\u001b[0m\u001b[0mreplication_round\u001b[0m\u001b[0;34m(\u001b[0m\u001b[0;34m)\u001b[0m\u001b[0;34m\u001b[0m\u001b[0;34m\u001b[0m\u001b[0m\n\u001b[0m\u001b[1;32m      5\u001b[0m \u001b[0;34m\u001b[0m\u001b[0m\n",
      "\u001b[0;32m<ipython-input-107-e21be2a3d864>\u001b[0m in \u001b[0;36mreplication_round\u001b[0;34m(self)\u001b[0m\n\u001b[1;32m    149\u001b[0m         \u001b[0mprint\u001b[0m\u001b[0;34m(\u001b[0m\u001b[0mnew_asex_pop\u001b[0m\u001b[0;34m)\u001b[0m\u001b[0;34m\u001b[0m\u001b[0;34m\u001b[0m\u001b[0m\n\u001b[1;32m    150\u001b[0m         \u001b[0mprint\u001b[0m\u001b[0;34m(\u001b[0m\u001b[0mnew_sex_pop\u001b[0m\u001b[0;34m.\u001b[0m\u001b[0mshape\u001b[0m\u001b[0;34m)\u001b[0m\u001b[0;34m\u001b[0m\u001b[0;34m\u001b[0m\u001b[0m\n\u001b[0;32m--> 151\u001b[0;31m         \u001b[0mself\u001b[0m\u001b[0;34m.\u001b[0m\u001b[0mtotal_pop_mat\u001b[0m \u001b[0;34m=\u001b[0m \u001b[0mnp\u001b[0m\u001b[0;34m.\u001b[0m\u001b[0mconcatenate\u001b[0m\u001b[0;34m(\u001b[0m\u001b[0;34m[\u001b[0m\u001b[0mnew_asex_pop\u001b[0m\u001b[0;34m,\u001b[0m\u001b[0mnew_sex_pop\u001b[0m\u001b[0;34m]\u001b[0m\u001b[0;34m,\u001b[0m \u001b[0maxis\u001b[0m\u001b[0;34m=\u001b[0m\u001b[0;36m1\u001b[0m\u001b[0;34m)\u001b[0m\u001b[0;34m\u001b[0m\u001b[0;34m\u001b[0m\u001b[0m\n\u001b[0m\u001b[1;32m    152\u001b[0m         \u001b[0mself\u001b[0m\u001b[0;34m.\u001b[0m\u001b[0mspecies_sep_index\u001b[0m \u001b[0;34m=\u001b[0m \u001b[0;34m(\u001b[0m\u001b[0mnew_asex_pop\u001b[0m\u001b[0;34m.\u001b[0m\u001b[0mshape\u001b[0m\u001b[0;34m)\u001b[0m\u001b[0;34m[\u001b[0m\u001b[0;36m1\u001b[0m\u001b[0;34m]\u001b[0m\u001b[0;34m\u001b[0m\u001b[0;34m\u001b[0m\u001b[0m\n\u001b[1;32m    153\u001b[0m \u001b[0;34m\u001b[0m\u001b[0m\n",
      "\u001b[0;31mValueError\u001b[0m: all the input arrays must have same number of dimensions"
     ],
     "ename": "ValueError",
     "evalue": "all the input arrays must have same number of dimensions",
     "output_type": "error"
    }
   ],
   "source": [
    "gia.mutation_stage(step = 1, mutation_liklihood=0.02)\n",
    "print(gia.total_pop_mat)\n",
    "gia.survival_round()\n",
    "gia.replication_round()"
   ],
   "metadata": {
    "collapsed": false,
    "pycharm": {
     "name": "#%%\n",
     "is_executing": false
    }
   }
  },
  {
   "cell_type": "code",
   "execution_count": null,
   "outputs": [],
   "source": [
    "\n"
   ],
   "metadata": {
    "collapsed": false,
    "pycharm": {
     "name": "#%%\n"
    }
   }
  }
 ],
 "metadata": {
  "kernelspec": {
   "display_name": "Python 3",
   "language": "python",
   "name": "python3"
  },
  "language_info": {
   "codemirror_mode": {
    "name": "ipython",
    "version": 2
   },
   "file_extension": ".py",
   "mimetype": "text/x-python",
   "name": "python",
   "nbconvert_exporter": "python",
   "pygments_lexer": "ipython2",
   "version": "2.7.6"
  },
  "pycharm": {
   "stem_cell": {
    "cell_type": "raw",
    "source": [],
    "metadata": {
     "collapsed": false
    }
   }
  }
 },
 "nbformat": 4,
 "nbformat_minor": 0
}