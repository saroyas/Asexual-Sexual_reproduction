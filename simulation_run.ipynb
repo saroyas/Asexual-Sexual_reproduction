{
 "cells": [
  {
   "cell_type": "code",
   "execution_count": 3,
   "outputs": [],
   "source": [
    "from population import *\n",
    "from gen_landscape import *\n",
    "import numpy as np\n",
    "import datetime\n",
    "stamp = str(datetime.datetime.now())\n",
    "\n",
    "num_of_times_to_test_each_landscape = 50\n",
    "number_of_iterations_to_run_on_each_world = 10000"
   ],
   "metadata": {
    "collapsed": false,
    "pycharm": {
     "name": "#%%\n",
     "is_executing": false
    }
   }
  },
  {
   "cell_type": "code",
   "execution_count": 4,
   "outputs": [],
   "source": [
    "def create_world_and_run_till_end(land, num_iterations=number_of_iterations_to_run_on_each_world):\n",
    "    gia = Population(population_size=10000, loci=2, gene_mean=0, gene_sd=5,\n",
    "                     proportion_asexual=0.5, survival_rate=0.5, mutation_std=1, landscape=land)\n",
    "\n",
    "    for i in range(num_iterations):\n",
    "        gia.mutation_stage()\n",
    "        gia.replication_stage()\n",
    "        if True in np.isnan(gia.get_fitness(gia.total_pop_mat)):\n",
    "            break\n",
    "        else:\n",
    "            gia.survival_stage()\n",
    "    return gia.fitness_stats()\n",
    "\n",
    "\n",
    "def run_assesment_of_landscape(points_chosen, assigned_fitness, num_times=1):\n",
    "    sex_wins, asex_wins, draws, errors = 0, 0, 0, 0\n",
    "    sex_minus_asex_fitness = 0\n",
    "    land = Landscape2D(points_chosen=points_chosen, points_fitness_values=assigned_fitness)\n",
    "    for n in range(num_times):\n",
    "        try:\n",
    "            ((asex_avg, asex_var), (sex_avg, sex_var)) = create_world_and_run_till_end(land)\n",
    "            if asex_avg > sex_avg:\n",
    "                asex_wins += 1\n",
    "            elif sex_avg > asex_avg:\n",
    "                sex_wins += 1\n",
    "            else:\n",
    "                draws += 1\n",
    "            sex_minus_asex_fitness = sex_minus_asex_fitness + (sex_avg - asex_avg)\n",
    "        except:\n",
    "            errors += 1\n",
    "        print('     Just ran assesment number', n)\n",
    "        print('     ',sex_minus_asex_fitness, sex_wins, asex_wins, draws, errors)\n",
    "    return (sex_minus_asex_fitness, sex_wins, asex_wins, draws, errors)\n",
    "\n",
    "\n",
    "def test_arrangements(points_to_set, list_of_assigned_fitness, num_times_each):\n",
    "    data_dict = {}\n",
    "    for i in range(len(list_of_assigned_fitness)):\n",
    "        print('Testing:', list_of_assigned_fitness[i])\n",
    "        # results  - (sex_wins, asex_wins, draws, errors)\n",
    "        results = run_assesment_of_landscape(points_chosen=points_to_set, assigned_fitness=list_of_assigned_fitness[i],\n",
    "                                             num_times=num_times_each)\n",
    "        data_dict[i] = (list_of_assigned_fitness[i], results)\n",
    "        print('Total State:')\n",
    "        print(data_dict)\n",
    "        filename = 'orientation_' + str(which_orientation) + '_' + stamp + '.json'\n",
    "        with open(filename, 'w') as fp:\n",
    "            json.dump(data_dict, fp)\n",
    "\n",
    "    return data_dict\n"
   ],
   "metadata": {
    "collapsed": false,
    "pycharm": {
     "name": "#%%\n",
     "is_executing": false
    }
   }
  },
  {
   "cell_type": "code",
   "execution_count": 6,
   "outputs": [],
   "source": [
    "mn = 500\n",
    "points_to_set_diamond = np.array([[mn, 0], [0, mn], [-mn, 0], [0, -mn], [0, 0]])\n",
    "points_to_set_sqr = np.array([[mn, mn], [-mn, mn], [-mn, -mn], [mn, -mn], [0, 0]])\n",
    "# pure concave\n",
    "sz = 1000\n",
    "pure_concave = [-sz, -sz, -sz, -sz, 0]\n",
    "concave_almost_1 = [-sz, -sz, -sz, 0, 0]\n",
    "concave_almost_2 = [-sz, -sz, 0, 0, 0]\n",
    "concave_almost_3 = [-sz, 0, -sz, 0, 0]\n",
    "concave_almost_4 = [-sz, 0, 0, 0, 0]\n",
    "\n",
    "flat = [0, 0, 0, 0, 0]\n",
    "\n",
    "hill_slope = [-sz, -sz, sz, sz, 0]\n",
    "saddle_almost_1 = [-sz, -sz, -sz, sz, 0]\n",
    "saddle_almost_2 = [-sz, sz, sz, sz, 0]\n",
    "assigned_saddle = [-sz, sz, -sz, sz, 0]\n",
    "\n",
    "convex_almost_4 = [sz, 0, 0, 0, 0]\n",
    "convex_almost_3 = [sz, 0, sz, 0, 0]\n",
    "convex_almost_2 = [sz, sz, 0, 0, 0]\n",
    "convex_almost_1 = [sz, sz, sz, 0, 0]\n",
    "pure_convex = [sz, sz, sz, sz, 0]\n",
    "\n",
    "list_of_assigned_fitness = [convex_almost_4, convex_almost_3, convex_almost_2, convex_almost_1, pure_convex,\n",
    "                            flat, hill_slope, saddle_almost_1, saddle_almost_2, assigned_saddle,\n",
    "                            pure_concave, concave_almost_1, concave_almost_2, concave_almost_3, concave_almost_4]"
   ],
   "metadata": {
    "collapsed": false,
    "pycharm": {
     "name": "#%%\n",
     "is_executing": false
    }
   }
  },
  {
   "cell_type": "code",
   "execution_count": 7,
   "outputs": [
    {
     "name": "stdout",
     "text": [
      "Testing: [1000, 0, 0, 0, 0]\n     Just ran assesment number 0\n      -0.43140050300272925 0 1 0 0\n     Just ran assesment number 1\n      2.251415931358042 1 1 0 0\n     Just ran assesment number 2\n      2.845516261352384 2 1 0 0\n     Just ran assesment number 3\n      3.990747265327655 3 1 0 0\n     Just ran assesment number 4\n      3.903540033358756 3 2 0 0\n     Just ran assesment number 5\n      6.071028962113223 4 2 0 0\n     Just ran assesment number 6\n      5.304904325453822 4 3 0 0\n     Just ran assesment number 7\n      7.049923536183686 5 3 0 0\n",
      "     Just ran assesment number 8\n      8.151544459674593 6 3 0 0\n     Just ran assesment number 9\n      9.236193825350647 7 3 0 0\nTotal State:\n{0: ([1000, 0, 0, 0, 0], (9.236193825350647, 7, 3, 0, 0))}\nTesting: [1000, 0, 1000, 0, 0]\n     Just ran assesment number 0\n      -0.2182949057961005 0 1 0 0\n     Just ran assesment number 1\n      -0.15133773351162413 1 1 0 0\n     Just ran assesment number 2\n      -0.2566862836536552 1 2 0 0\n     Just ran assesment number 3\n      -0.3216840355742776 1 3 0 0\n     Just ran assesment number 4\n      -0.5371584732056808 1 4 0 0\n     Just ran assesment number 5\n      -0.6128073542726169 1 5 0 0\n     Just ran assesment number 6\n      -0.739039474994881 1 6 0 0\n",
      "     Just ran assesment number 7\n      -0.8746714476166632 1 7 0 0\n     Just ran assesment number 8\n      -0.847284428337096 2 7 0 0\n     Just ran assesment number 9\n      -0.8804567649713817 2 8 0 0\nTotal State:\n{0: ([1000, 0, 0, 0, 0], (9.236193825350647, 7, 3, 0, 0)), 1: ([1000, 0, 1000, 0, 0], (-0.8804567649713817, 2, 8, 0, 0))}\nTesting: [1000, 1000, 0, 0, 0]\n     Just ran assesment number 0\n      1.55155221618981 1 0 0 0\n     Just ran assesment number 1\n      5.708220906950144 2 0 0 0\n     Just ran assesment number 2\n      4.669988643561311 2 1 0 0\n     Just ran assesment number 3\n      8.423615677138226 3 1 0 0\n     Just ran assesment number 4\n      6.583086864298288 3 2 0 0\n     Just ran assesment number 5\n      4.807376541562466 3 3 0 0\n     Just ran assesment number 6\n      5.877752206952836 4 3 0 0\n     Just ran assesment number 7\n      4.984350455870503 4 4 0 0\n     Just ran assesment number 8\n      5.015218418069983 5 4 0 0\n",
      "     Just ran assesment number 9\n      8.075387502836437 6 4 0 0\nTotal State:\n{0: ([1000, 0, 0, 0, 0], (9.236193825350647, 7, 3, 0, 0)), 1: ([1000, 0, 1000, 0, 0], (-0.8804567649713817, 2, 8, 0, 0)), 2: ([1000, 1000, 0, 0, 0], (8.075387502836437, 6, 4, 0, 0))}\nTesting: [1000, 1000, 1000, 0, 0]\n     Just ran assesment number 0\n      4.592843151739299 1 0 0 0\n     Just ran assesment number 1\n      5.361175265084751 2 0 0 0\n     Just ran assesment number 2\n      7.796176269678436 3 0 0 0\n     Just ran assesment number 3\n      8.018951055840283 4 0 0 0\n     Just ran assesment number 4\n      9.127440428343611 5 0 0 0\n     Just ran assesment number 5\n      10.143022184390933 6 0 0 0\n",
      "     Just ran assesment number 6\n      11.504111693153154 7 0 0 0\n     Just ran assesment number 7\n      12.717866141414857 8 0 0 0\n     Just ran assesment number 8\n      14.769789053647923 9 0 0 0\n     Just ran assesment number 9\n      14.910808181888012 10 0 0 0\nTotal State:\n{0: ([1000, 0, 0, 0, 0], (9.236193825350647, 7, 3, 0, 0)), 1: ([1000, 0, 1000, 0, 0], (-0.8804567649713817, 2, 8, 0, 0)), 2: ([1000, 1000, 0, 0, 0], (8.075387502836437, 6, 4, 0, 0)), 3: ([1000, 1000, 1000, 0, 0], (14.910808181888012, 10, 0, 0, 0))}\nTesting: [1000, 1000, 1000, 1000, 0]\n     Just ran assesment number 0\n      0.043064440220387246 1 0 0 0\n     Just ran assesment number 1\n      -0.16637320901116082 1 1 0 0\n     Just ran assesment number 2\n      -0.7097692465959011 1 2 0 0\n     Just ran assesment number 3\n      -1.502741043662058 1 3 0 0\n     Just ran assesment number 4\n      -1.28116870077557 2 3 0 0\n     Just ran assesment number 5\n      -1.507981074747619 2 4 0 0\n     Just ran assesment number 6\n      -1.4850566599722437 3 4 0 0\n",
      "     Just ran assesment number 7\n      -1.3939285937603865 4 4 0 0\n     Just ran assesment number 8\n      -1.578028317832993 4 5 0 0\n     Just ran assesment number 9\n      -1.6000714518487609 4 6 0 0\nTotal State:\n{0: ([1000, 0, 0, 0, 0], (9.236193825350647, 7, 3, 0, 0)), 1: ([1000, 0, 1000, 0, 0], (-0.8804567649713817, 2, 8, 0, 0)), 2: ([1000, 1000, 0, 0, 0], (8.075387502836437, 6, 4, 0, 0)), 3: ([1000, 1000, 1000, 0, 0], (14.910808181888012, 10, 0, 0, 0)), 4: ([1000, 1000, 1000, 1000, 0], (-1.6000714518487609, 4, 6, 0, 0))}\nTesting: [0, 0, 0, 0, 0]\n     Just ran assesment number 0\n      0.0 0 0 1 0\n     Just ran assesment number 1\n      0.0 0 0 2 0\n     Just ran assesment number 2\n      0.0 0 0 3 0\n     Just ran assesment number 3\n      0.0 0 0 4 0\n     Just ran assesment number 4\n      0.0 0 0 5 0\n     Just ran assesment number 5\n      0.0 0 0 6 0\n",
      "     Just ran assesment number 6\n      0.0 0 0 7 0\n     Just ran assesment number 7\n      0.0 0 0 8 0\n     Just ran assesment number 8\n      0.0 0 0 9 0\n     Just ran assesment number 9\n      0.0 0 0 10 0\nTotal State:\n{0: ([1000, 0, 0, 0, 0], (9.236193825350647, 7, 3, 0, 0)), 1: ([1000, 0, 1000, 0, 0], (-0.8804567649713817, 2, 8, 0, 0)), 2: ([1000, 1000, 0, 0, 0], (8.075387502836437, 6, 4, 0, 0)), 3: ([1000, 1000, 1000, 0, 0], (14.910808181888012, 10, 0, 0, 0)), 4: ([1000, 1000, 1000, 1000, 0], (-1.6000714518487609, 4, 6, 0, 0)), 5: ([0, 0, 0, 0, 0], (0.0, 0, 0, 10, 0))}\nTesting: [-1000, -1000, 1000, 1000, 0]\n     Just ran assesment number 0\n      -1.0070516701500907 0 1 0 0\n     Just ran assesment number 1\n      0.9366057014072702 1 1 0 0\n     Just ran assesment number 2\n      -5.0020975422865455 1 2 0 0\n     Just ran assesment number 3\n      -9.109313122828624 1 3 0 0\n     Just ran assesment number 4\n      -10.094653370776285 1 4 0 0\n     Just ran assesment number 5\n      -7.11011385745223 2 4 0 0\n",
      "     Just ran assesment number 6\n      -6.8285328950739945 3 4 0 0\n     Just ran assesment number 7\n      -11.274356863536319 3 5 0 0\n     Just ran assesment number 8\n      -11.20062416391525 4 5 0 0\n     Just ran assesment number 9\n      -15.639908057751683 4 6 0 0\nTotal State:\n{0: ([1000, 0, 0, 0, 0], (9.236193825350647, 7, 3, 0, 0)), 1: ([1000, 0, 1000, 0, 0], (-0.8804567649713817, 2, 8, 0, 0)), 2: ([1000, 1000, 0, 0, 0], (8.075387502836437, 6, 4, 0, 0)), 3: ([1000, 1000, 1000, 0, 0], (14.910808181888012, 10, 0, 0, 0)), 4: ([1000, 1000, 1000, 1000, 0], (-1.6000714518487609, 4, 6, 0, 0)), 5: ([0, 0, 0, 0, 0], (0.0, 0, 0, 10, 0)), 6: ([-1000, -1000, 1000, 1000, 0], (-15.639908057751683, 4, 6, 0, 0))}\nTesting: [-1000, -1000, -1000, 1000, 0]\n     Just ran assesment number 0\n      4.086193103838598 1 0 0 0\n     Just ran assesment number 1\n      2.3831091719340645 1 1 0 0\n     Just ran assesment number 2\n      3.567695485561295 2 1 0 0\n     Just ran assesment number 3\n      5.885393848143163 3 1 0 0\n",
      "     Just ran assesment number 4\n      7.894006390007762 4 1 0 0\n     Just ran assesment number 5\n      4.797976732807841 4 2 0 0\n     Just ran assesment number 6\n      4.969964479585194 5 2 0 0\n     Just ran assesment number 7\n      6.924553862131715 6 2 0 0\n     Just ran assesment number 8\n      8.992123091185544 7 2 0 0\n     Just ran assesment number 9\n      12.005756428685292 8 2 0 0\nTotal State:\n{0: ([1000, 0, 0, 0, 0], (9.236193825350647, 7, 3, 0, 0)), 1: ([1000, 0, 1000, 0, 0], (-0.8804567649713817, 2, 8, 0, 0)), 2: ([1000, 1000, 0, 0, 0], (8.075387502836437, 6, 4, 0, 0)), 3: ([1000, 1000, 1000, 0, 0], (14.910808181888012, 10, 0, 0, 0)), 4: ([1000, 1000, 1000, 1000, 0], (-1.6000714518487609, 4, 6, 0, 0)), 5: ([0, 0, 0, 0, 0], (0.0, 0, 0, 10, 0)), 6: ([-1000, -1000, 1000, 1000, 0], (-15.639908057751683, 4, 6, 0, 0)), 7: ([-1000, -1000, -1000, 1000, 0], (12.005756428685292, 8, 2, 0, 0))}\nTesting: [-1000, 1000, 1000, 1000, 0]\n     Just ran assesment number 0\n      1.5375249157541138 1 0 0 0\n     Just ran assesment number 1\n      4.213011467679777 2 0 0 0\n     Just ran assesment number 2\n      7.571370255758467 3 0 0 0\n     Just ran assesment number 3\n      8.286235477636673 4 0 0 0\n     Just ran assesment number 4\n      9.398572366154596 5 0 0 0\n",
      "     Just ran assesment number 5\n      11.909077258161554 6 0 0 0\n     Just ran assesment number 6\n      16.308970164584434 7 0 0 0\n     Just ran assesment number 7\n      15.494972935174061 7 1 0 0\n     Just ran assesment number 8\n      17.04154936136645 8 1 0 0\n     Just ran assesment number 9\n      20.389530628019806 9 1 0 0\nTotal State:\n{0: ([1000, 0, 0, 0, 0], (9.236193825350647, 7, 3, 0, 0)), 1: ([1000, 0, 1000, 0, 0], (-0.8804567649713817, 2, 8, 0, 0)), 2: ([1000, 1000, 0, 0, 0], (8.075387502836437, 6, 4, 0, 0)), 3: ([1000, 1000, 1000, 0, 0], (14.910808181888012, 10, 0, 0, 0)), 4: ([1000, 1000, 1000, 1000, 0], (-1.6000714518487609, 4, 6, 0, 0)), 5: ([0, 0, 0, 0, 0], (0.0, 0, 0, 10, 0)), 6: ([-1000, -1000, 1000, 1000, 0], (-15.639908057751683, 4, 6, 0, 0)), 7: ([-1000, -1000, -1000, 1000, 0], (12.005756428685292, 8, 2, 0, 0)), 8: ([-1000, 1000, 1000, 1000, 0], (20.389530628019806, 9, 1, 0, 0))}\nTesting: [-1000, 1000, -1000, 1000, 0]\n     Just ran assesment number 0\n      -0.09332593304940066 0 1 0 0\n     Just ran assesment number 1\n      -0.1719735818847234 0 2 0 0\n     Just ran assesment number 2\n      -0.22196440335697984 0 3 0 0\n",
      "     Just ran assesment number 3\n      -0.25337448119027556 0 4 0 0\n     Just ran assesment number 4\n      -0.3852703144318026 0 5 0 0\n     Just ran assesment number 5\n      -0.4141840512490744 0 6 0 0\n     Just ran assesment number 6\n      -0.49609797185284166 0 7 0 0\n     Just ran assesment number 7\n      -0.5811986038090019 0 8 0 0\n     Just ran assesment number 8\n      -0.715207100187233 0 9 0 0\n     Just ran assesment number 9\n      -0.7202221607049528 0 10 0 0\nTotal State:\n{0: ([1000, 0, 0, 0, 0], (9.236193825350647, 7, 3, 0, 0)), 1: ([1000, 0, 1000, 0, 0], (-0.8804567649713817, 2, 8, 0, 0)), 2: ([1000, 1000, 0, 0, 0], (8.075387502836437, 6, 4, 0, 0)), 3: ([1000, 1000, 1000, 0, 0], (14.910808181888012, 10, 0, 0, 0)), 4: ([1000, 1000, 1000, 1000, 0], (-1.6000714518487609, 4, 6, 0, 0)), 5: ([0, 0, 0, 0, 0], (0.0, 0, 0, 10, 0)), 6: ([-1000, -1000, 1000, 1000, 0], (-15.639908057751683, 4, 6, 0, 0)), 7: ([-1000, -1000, -1000, 1000, 0], (12.005756428685292, 8, 2, 0, 0)), 8: ([-1000, 1000, 1000, 1000, 0], (20.389530628019806, 9, 1, 0, 0)), 9: ([-1000, 1000, -1000, 1000, 0], (-0.7202221607049528, 0, 10, 0, 0))}\nTesting: [-1000, -1000, -1000, -1000, 0]\n     Just ran assesment number 0\n      -0.05491110545864461 0 1 0 0\n     Just ran assesment number 1\n      -0.008565331174763408 1 1 0 0\n     Just ran assesment number 2\n      -0.031230649369591634 1 2 0 0\n     Just ran assesment number 3\n      0.004395413470136805 2 2 0 0\n",
      "     Just ran assesment number 4\n      -0.02543220656256376 2 3 0 0\n     Just ran assesment number 5\n      0.004164776379347895 3 3 0 0\n     Just ran assesment number 6\n      0.014485534054339722 4 3 0 0\n     Just ran assesment number 7\n      0.06978522488330213 5 3 0 0\n     Just ran assesment number 8\n      0.08150229152212597 6 3 0 0\n     Just ran assesment number 9\n      0.07020543141734893 6 4 0 0\nTotal State:\n{0: ([1000, 0, 0, 0, 0], (9.236193825350647, 7, 3, 0, 0)), 1: ([1000, 0, 1000, 0, 0], (-0.8804567649713817, 2, 8, 0, 0)), 2: ([1000, 1000, 0, 0, 0], (8.075387502836437, 6, 4, 0, 0)), 3: ([1000, 1000, 1000, 0, 0], (14.910808181888012, 10, 0, 0, 0)), 4: ([1000, 1000, 1000, 1000, 0], (-1.6000714518487609, 4, 6, 0, 0)), 5: ([0, 0, 0, 0, 0], (0.0, 0, 0, 10, 0)), 6: ([-1000, -1000, 1000, 1000, 0], (-15.639908057751683, 4, 6, 0, 0)), 7: ([-1000, -1000, -1000, 1000, 0], (12.005756428685292, 8, 2, 0, 0)), 8: ([-1000, 1000, 1000, 1000, 0], (20.389530628019806, 9, 1, 0, 0)), 9: ([-1000, 1000, -1000, 1000, 0], (-0.7202221607049528, 0, 10, 0, 0)), 10: ([-1000, -1000, -1000, -1000, 0], (0.07020543141734893, 6, 4, 0, 0))}\nTesting: [-1000, -1000, -1000, 0, 0]\n     Just ran assesment number 0\n      0.08291591119474262 1 0 0 0\n     Just ran assesment number 1\n      1.0884906311327471 2 0 0 0\n",
      "     Just ran assesment number 2\n      2.3119382031019384 3 0 0 0\n     Just ran assesment number 3\n      3.756874543140359 4 0 0 0\n     Just ran assesment number 4\n      3.4409367461788998 4 1 0 0\n     Just ran assesment number 5\n      5.674370982127762 5 1 0 0\n     Just ran assesment number 6\n      6.7454731216919175 6 1 0 0\n     Just ran assesment number 7\n      7.786698840297613 7 1 0 0\n     Just ran assesment number 8\n      7.980916876422809 8 1 0 0\n     Just ran assesment number 9\n      10.63064676989885 9 1 0 0\nTotal State:\n{0: ([1000, 0, 0, 0, 0], (9.236193825350647, 7, 3, 0, 0)), 1: ([1000, 0, 1000, 0, 0], (-0.8804567649713817, 2, 8, 0, 0)), 2: ([1000, 1000, 0, 0, 0], (8.075387502836437, 6, 4, 0, 0)), 3: ([1000, 1000, 1000, 0, 0], (14.910808181888012, 10, 0, 0, 0)), 4: ([1000, 1000, 1000, 1000, 0], (-1.6000714518487609, 4, 6, 0, 0)), 5: ([0, 0, 0, 0, 0], (0.0, 0, 0, 10, 0)), 6: ([-1000, -1000, 1000, 1000, 0], (-15.639908057751683, 4, 6, 0, 0)), 7: ([-1000, -1000, -1000, 1000, 0], (12.005756428685292, 8, 2, 0, 0)), 8: ([-1000, 1000, 1000, 1000, 0], (20.389530628019806, 9, 1, 0, 0)), 9: ([-1000, 1000, -1000, 1000, 0], (-0.7202221607049528, 0, 10, 0, 0)), 10: ([-1000, -1000, -1000, -1000, 0], (0.07020543141734893, 6, 4, 0, 0)), 11: ([-1000, -1000, -1000, 0, 0], (10.63064676989885, 9, 1, 0, 0))}\nTesting: [-1000, -1000, 0, 0, 0]\n     Just ran assesment number 0\n      1.4227750572338813 1 0 0 0\n",
      "     Just ran assesment number 1\n      5.567129524618217 2 0 0 0\n     Just ran assesment number 2\n      9.70629203104102 3 0 0 0\n     Just ran assesment number 3\n      8.396601892741147 3 1 0 0\n     Just ran assesment number 4\n      9.942692981475167 4 1 0 0\n     Just ran assesment number 5\n      7.415598033126807 4 2 0 0\n     Just ran assesment number 6\n      5.307766362155368 4 3 0 0\n     Just ran assesment number 7\n      3.697573702927464 4 4 0 0\n     Just ran assesment number 8\n      1.7641236726977958 4 5 0 0\n     Just ran assesment number 9\n      -1.0465927618015414 4 6 0 0\nTotal State:\n{0: ([1000, 0, 0, 0, 0], (9.236193825350647, 7, 3, 0, 0)), 1: ([1000, 0, 1000, 0, 0], (-0.8804567649713817, 2, 8, 0, 0)), 2: ([1000, 1000, 0, 0, 0], (8.075387502836437, 6, 4, 0, 0)), 3: ([1000, 1000, 1000, 0, 0], (14.910808181888012, 10, 0, 0, 0)), 4: ([1000, 1000, 1000, 1000, 0], (-1.6000714518487609, 4, 6, 0, 0)), 5: ([0, 0, 0, 0, 0], (0.0, 0, 0, 10, 0)), 6: ([-1000, -1000, 1000, 1000, 0], (-15.639908057751683, 4, 6, 0, 0)), 7: ([-1000, -1000, -1000, 1000, 0], (12.005756428685292, 8, 2, 0, 0)), 8: ([-1000, 1000, 1000, 1000, 0], (20.389530628019806, 9, 1, 0, 0)), 9: ([-1000, 1000, -1000, 1000, 0], (-0.7202221607049528, 0, 10, 0, 0)), 10: ([-1000, -1000, -1000, -1000, 0], (0.07020543141734893, 6, 4, 0, 0)), 11: ([-1000, -1000, -1000, 0, 0], (10.63064676989885, 9, 1, 0, 0)), 12: ([-1000, -1000, 0, 0, 0], (-1.0465927618015414, 4, 6, 0, 0))}\n",
      "Testing: [-1000, 0, -1000, 0, 0]\n     Just ran assesment number 0\n      -0.007358551478399214 0 1 0 0\n     Just ran assesment number 1\n      -0.0018361097136447985 1 1 0 0\n     Just ran assesment number 2\n      -0.008378857949846913 1 2 0 0\n     Just ran assesment number 3\n      0.004099979827177497 2 2 0 0\n     Just ran assesment number 4\n      -0.015596737925849924 2 3 0 0\n     Just ran assesment number 5\n      -0.02565533288939713 2 4 0 0\n     Just ran assesment number 6\n      -0.03395355305115526 2 5 0 0\n     Just ran assesment number 7\n      -0.07563103667045015 2 6 0 0\n",
      "     Just ran assesment number 8\n      -0.07526767654589558 3 6 0 0\n     Just ran assesment number 9\n      -0.08173727432999027 3 7 0 0\nTotal State:\n{0: ([1000, 0, 0, 0, 0], (9.236193825350647, 7, 3, 0, 0)), 1: ([1000, 0, 1000, 0, 0], (-0.8804567649713817, 2, 8, 0, 0)), 2: ([1000, 1000, 0, 0, 0], (8.075387502836437, 6, 4, 0, 0)), 3: ([1000, 1000, 1000, 0, 0], (14.910808181888012, 10, 0, 0, 0)), 4: ([1000, 1000, 1000, 1000, 0], (-1.6000714518487609, 4, 6, 0, 0)), 5: ([0, 0, 0, 0, 0], (0.0, 0, 0, 10, 0)), 6: ([-1000, -1000, 1000, 1000, 0], (-15.639908057751683, 4, 6, 0, 0)), 7: ([-1000, -1000, -1000, 1000, 0], (12.005756428685292, 8, 2, 0, 0)), 8: ([-1000, 1000, 1000, 1000, 0], (20.389530628019806, 9, 1, 0, 0)), 9: ([-1000, 1000, -1000, 1000, 0], (-0.7202221607049528, 0, 10, 0, 0)), 10: ([-1000, -1000, -1000, -1000, 0], (0.07020543141734893, 6, 4, 0, 0)), 11: ([-1000, -1000, -1000, 0, 0], (10.63064676989885, 9, 1, 0, 0)), 12: ([-1000, -1000, 0, 0, 0], (-1.0465927618015414, 4, 6, 0, 0)), 13: ([-1000, 0, -1000, 0, 0], (-0.08173727432999027, 3, 7, 0, 0))}\nTesting: [-1000, 0, 0, 0, 0]\n     Just ran assesment number 0\n      -2.504889722436796 0 1 0 0\n     Just ran assesment number 1\n      -2.5318128087733074 0 2 0 0\n     Just ran assesment number 2\n      -2.125019240890577 1 2 0 0\n     Just ran assesment number 3\n      -1.1453039788340105 2 2 0 0\n     Just ran assesment number 4\n      -0.096626557157383 3 2 0 0\n     Just ran assesment number 5\n      1.567366087743168 4 2 0 0\n",
      "     Just ran assesment number 6\n      1.446096755223608 4 3 0 0\n     Just ran assesment number 7\n      2.066277319198207 5 3 0 0\n     Just ran assesment number 8\n      2.6240498956102822 6 3 0 0\n     Just ran assesment number 9\n      2.0259445910865725 6 4 0 0\nTotal State:\n{0: ([1000, 0, 0, 0, 0], (9.236193825350647, 7, 3, 0, 0)), 1: ([1000, 0, 1000, 0, 0], (-0.8804567649713817, 2, 8, 0, 0)), 2: ([1000, 1000, 0, 0, 0], (8.075387502836437, 6, 4, 0, 0)), 3: ([1000, 1000, 1000, 0, 0], (14.910808181888012, 10, 0, 0, 0)), 4: ([1000, 1000, 1000, 1000, 0], (-1.6000714518487609, 4, 6, 0, 0)), 5: ([0, 0, 0, 0, 0], (0.0, 0, 0, 10, 0)), 6: ([-1000, -1000, 1000, 1000, 0], (-15.639908057751683, 4, 6, 0, 0)), 7: ([-1000, -1000, -1000, 1000, 0], (12.005756428685292, 8, 2, 0, 0)), 8: ([-1000, 1000, 1000, 1000, 0], (20.389530628019806, 9, 1, 0, 0)), 9: ([-1000, 1000, -1000, 1000, 0], (-0.7202221607049528, 0, 10, 0, 0)), 10: ([-1000, -1000, -1000, -1000, 0], (0.07020543141734893, 6, 4, 0, 0)), 11: ([-1000, -1000, -1000, 0, 0], (10.63064676989885, 9, 1, 0, 0)), 12: ([-1000, -1000, 0, 0, 0], (-1.0465927618015414, 4, 6, 0, 0)), 13: ([-1000, 0, -1000, 0, 0], (-0.08173727432999027, 3, 7, 0, 0)), 14: ([-1000, 0, 0, 0, 0], (2.0259445910865725, 6, 4, 0, 0))}\n"
     ],
     "output_type": "stream"
    }
   ],
   "source": [
    "which_orientation = int(input('Diamond: 0, Square: 1 ::'))\n",
    "if which_orientation == 0:\n",
    "    points_to_set = points_to_set_diamond\n",
    "elif which_orientation == 1:\n",
    "    points_to_set = points_to_set_sqr\n",
    "\n",
    "\n",
    "data_dict = test_arrangements(points_to_set=points_to_set,\n",
    "                              list_of_assigned_fitness=list_of_assigned_fitness, \n",
    "                              num_times_each=num_of_times_to_test_each_landscape)"
   ],
   "metadata": {
    "collapsed": false,
    "pycharm": {
     "name": "#%%\n",
     "is_executing": false
    }
   }
  },
  {
   "cell_type": "code",
   "execution_count": 8,
   "outputs": [
    {
     "name": "stdout",
     "text": [
      "WE ARE FINISHED\ndata dict for orientation: 1\n{0: ([1000, 0, 0, 0, 0], (9.236193825350647, 7, 3, 0, 0)), 1: ([1000, 0, 1000, 0, 0], (-0.8804567649713817, 2, 8, 0, 0)), 2: ([1000, 1000, 0, 0, 0], (8.075387502836437, 6, 4, 0, 0)), 3: ([1000, 1000, 1000, 0, 0], (14.910808181888012, 10, 0, 0, 0)), 4: ([1000, 1000, 1000, 1000, 0], (-1.6000714518487609, 4, 6, 0, 0)), 5: ([0, 0, 0, 0, 0], (0.0, 0, 0, 10, 0)), 6: ([-1000, -1000, 1000, 1000, 0], (-15.639908057751683, 4, 6, 0, 0)), 7: ([-1000, -1000, -1000, 1000, 0], (12.005756428685292, 8, 2, 0, 0)), 8: ([-1000, 1000, 1000, 1000, 0], (20.389530628019806, 9, 1, 0, 0)), 9: ([-1000, 1000, -1000, 1000, 0], (-0.7202221607049528, 0, 10, 0, 0)), 10: ([-1000, -1000, -1000, -1000, 0], (0.07020543141734893, 6, 4, 0, 0)), 11: ([-1000, -1000, -1000, 0, 0], (10.63064676989885, 9, 1, 0, 0)), 12: ([-1000, -1000, 0, 0, 0], (-1.0465927618015414, 4, 6, 0, 0)), 13: ([-1000, 0, -1000, 0, 0], (-0.08173727432999027, 3, 7, 0, 0)), 14: ([-1000, 0, 0, 0, 0], (2.0259445910865725, 6, 4, 0, 0))}\n"
     ],
     "output_type": "stream"
    }
   ],
   "source": [
    "print('WE ARE FINISHED')\n",
    "print('data dict for orientation:', which_orientation)\n",
    "print(data_dict)\n",
    "# %%\n",
    "filename = 'orientation_' + str(which_orientation) + '_' + stamp + '.json'\n",
    "with open(filename, 'w') as fp:\n",
    "    json.dump(data_dict, fp)"
   ],
   "metadata": {
    "collapsed": false,
    "pycharm": {
     "name": "#%%\n",
     "is_executing": false
    }
   }
  },
  {
   "cell_type": "code",
   "execution_count": null,
   "outputs": [],
   "source": [
    "\n"
   ],
   "metadata": {
    "collapsed": false,
    "pycharm": {
     "name": "#%%\n"
    }
   }
  }
 ],
 "metadata": {
  "kernelspec": {
   "display_name": "Python 3",
   "language": "python",
   "name": "python3"
  },
  "language_info": {
   "codemirror_mode": {
    "name": "ipython",
    "version": 2
   },
   "file_extension": ".py",
   "mimetype": "text/x-python",
   "name": "python",
   "nbconvert_exporter": "python",
   "pygments_lexer": "ipython2",
   "version": "2.7.6"
  },
  "pycharm": {
   "stem_cell": {
    "cell_type": "raw",
    "source": [],
    "metadata": {
     "collapsed": false
    }
   }
  }
 },
 "nbformat": 4,
 "nbformat_minor": 0
}