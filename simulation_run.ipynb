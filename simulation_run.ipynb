{
 "cells": [
  {
   "cell_type": "code",
   "execution_count": 1,
   "metadata": {
    "collapsed": true,
    "pycharm": {
     "is_executing": false
    }
   },
   "outputs": [],
   "source": [
    "from population import *\n",
    "from gen_landscape import *\n",
    "import numpy as np\n",
    "import datetime"
   ]
  },
  {
   "cell_type": "code",
   "execution_count": 2,
   "outputs": [],
   "source": [
    "def create_world_and_run_till_end(land, max_iterations = 10000):\n",
    "    gia = Population(population_size=10000, loci=2, gene_mean=0, gene_sd=1,\n",
    "                     proportion_asexual=0.5, survival_rate=0.7, mutation_std=1, landscape=land)\n",
    "\n",
    "    for i in range(max_iterations+10):\n",
    "        if gia.population_sizes(asex=True) < 100:\n",
    "            result = 2\n",
    "            break\n",
    "        elif gia.population_sizes(sex=True) < 100:\n",
    "            result = 1\n",
    "            break\n",
    "        elif i>max_iterations:\n",
    "            result = 0\n",
    "            break\n",
    "        gia.mutation_stage()\n",
    "        gia.survival_stage()\n",
    "        gia.replication_stage()\n",
    "    return result\n",
    "\n",
    "def run_assesment_of_landscape(points_chosen, assigned_fitness, num_times=1):\n",
    "    sex_wins, asex_wins, draws, errors = 0,0,0,0\n",
    "    assigned_fitness = np.array(assigned_fitness)\n",
    "    land = Landscape2D(points_chosen=points_chosen, points_fitness_values=assigned_fitness)\n",
    "    for n in range(num_times):\n",
    "        try:\n",
    "            result = create_world_and_run_till_end(land)\n",
    "            if result==0:\n",
    "                draws+=1\n",
    "            elif result==1:\n",
    "                asex_wins+=1\n",
    "            elif result==2:\n",
    "                sex_wins+=1\n",
    "            print('     Arrangement Stats: Sex, Asex, Draws')\n",
    "            print('     ',assigned_fitness, sex_wins, asex_wins, draws)\n",
    "        except:\n",
    "            errors += 1\n",
    "    return (sex_wins, asex_wins, draws, errors)\n",
    "\n",
    "def test_arrangements(points_to_set,list_of_assigned_fitness, num_times_each):\n",
    "    data_dict = {}\n",
    "    for i in range(len(list_of_assigned_fitness)):\n",
    "        # results  - (sex_wins, asex_wins, draws, errors)\n",
    "        results = run_assesment_of_landscape(points_chosen=points_to_set, assigned_fitness=list_of_assigned_fitness[i], \n",
    "                                             num_times=num_times_each)\n",
    "        data_dict[i] = (list_of_assigned_fitness[i], results)\n",
    "        print('Total State:')\n",
    "        print(data_dict)\n",
    "    \n",
    "    return data_dict\n",
    "        "
   ],
   "metadata": {
    "collapsed": false,
    "pycharm": {
     "name": "#%%\n",
     "is_executing": false
    }
   }
  },
  {
   "cell_type": "code",
   "execution_count": 3,
   "outputs": [],
   "source": [
    "points_to_set = np.array([[100, 0], [0, 100], [-100, 0], [0, -100], [0, 0]])\n",
    "#pure concave\n",
    "assigned_concave_1 = [-100, -100, -100, -100, 0]\n",
    "#saddle\n",
    "assigned_half_saddle = [-100, 100, -100, -100, 0]\n",
    "assigned_saddle = [-100, 100, -100, 100, 0]\n",
    "\n",
    "list_of_assigned_fitness = [assigned_concave_1, assigned_half_saddle, assigned_saddle]"
   ],
   "metadata": {
    "collapsed": false,
    "pycharm": {
     "name": "#%%\n",
     "is_executing": false
    }
   }
  },
  {
   "cell_type": "code",
   "execution_count": 4,
   "outputs": [
    {
     "name": "stdout",
     "text": [
      "     Arrangement Stats: Sex, Asex, Draws\n      [-100 -100 -100 -100    0] 0 1 0\n",
      "     Arrangement Stats: Sex, Asex, Draws\n      [-100 -100 -100 -100    0] 0 2 0\n",
      "     Arrangement Stats: Sex, Asex, Draws\n      [-100 -100 -100 -100    0] 0 3 0\n",
      "     Arrangement Stats: Sex, Asex, Draws\n      [-100 -100 -100 -100    0] 0 4 0\n",
      "     Arrangement Stats: Sex, Asex, Draws\n      [-100 -100 -100 -100    0] 1 4 0\n",
      "     Arrangement Stats: Sex, Asex, Draws\n      [-100 -100 -100 -100    0] 1 5 0\n",
      "     Arrangement Stats: Sex, Asex, Draws\n      [-100 -100 -100 -100    0] 2 5 0\n",
      "     Arrangement Stats: Sex, Asex, Draws\n      [-100 -100 -100 -100    0] 3 5 0\n",
      "     Arrangement Stats: Sex, Asex, Draws\n      [-100 -100 -100 -100    0] 4 5 0\n",
      "     Arrangement Stats: Sex, Asex, Draws\n      [-100 -100 -100 -100    0] 4 6 0\nTotal State:\n{0: ([-100, -100, -100, -100, 0], (4, 6, 0, 0))}\n     Arrangement Stats: Sex, Asex, Draws\n      [-100  100 -100 -100    0] 1 0 0\n",
      "     Arrangement Stats: Sex, Asex, Draws\n      [-100  100 -100 -100    0] 2 0 0\n     Arrangement Stats: Sex, Asex, Draws\n      [-100  100 -100 -100    0] 2 1 0\n     Arrangement Stats: Sex, Asex, Draws\n      [-100  100 -100 -100    0] 3 1 0\n",
      "     Arrangement Stats: Sex, Asex, Draws\n      [-100  100 -100 -100    0] 3 2 0\n     Arrangement Stats: Sex, Asex, Draws\n      [-100  100 -100 -100    0] 4 2 0\n     Arrangement Stats: Sex, Asex, Draws\n      [-100  100 -100 -100    0] 5 2 0\n",
      "     Arrangement Stats: Sex, Asex, Draws\n      [-100  100 -100 -100    0] 6 2 0\n     Arrangement Stats: Sex, Asex, Draws\n      [-100  100 -100 -100    0] 7 2 0\n",
      "     Arrangement Stats: Sex, Asex, Draws\n      [-100  100 -100 -100    0] 8 2 0\nTotal State:\n{0: ([-100, -100, -100, -100, 0], (4, 6, 0, 0)), 1: ([-100, 100, -100, -100, 0], (8, 2, 0, 0))}\n     Arrangement Stats: Sex, Asex, Draws\n      [-100  100 -100  100    0] 1 0 0\n",
      "     Arrangement Stats: Sex, Asex, Draws\n      [-100  100 -100  100    0] 1 1 0\n     Arrangement Stats: Sex, Asex, Draws\n      [-100  100 -100  100    0] 2 1 0\n",
      "     Arrangement Stats: Sex, Asex, Draws\n      [-100  100 -100  100    0] 3 1 0\n     Arrangement Stats: Sex, Asex, Draws\n      [-100  100 -100  100    0] 4 1 0\n     Arrangement Stats: Sex, Asex, Draws\n      [-100  100 -100  100    0] 5 1 0\n",
      "     Arrangement Stats: Sex, Asex, Draws\n      [-100  100 -100  100    0] 6 1 0\n",
      "     Arrangement Stats: Sex, Asex, Draws\n      [-100  100 -100  100    0] 6 2 0\n     Arrangement Stats: Sex, Asex, Draws\n      [-100  100 -100  100    0] 6 3 0\n     Arrangement Stats: Sex, Asex, Draws\n      [-100  100 -100  100    0] 6 4 0\nTotal State:\n{0: ([-100, -100, -100, -100, 0], (4, 6, 0, 0)), 1: ([-100, 100, -100, -100, 0], (8, 2, 0, 0)), 2: ([-100, 100, -100, 100, 0], (6, 4, 0, 0))}\n"
     ],
     "output_type": "stream"
    }
   ],
   "source": [
    "data_dict = test_arrangements(points_to_set=points_to_set,\n",
    "                              list_of_assigned_fitness=list_of_assigned_fitness,num_times_each=100)"
   ],
   "metadata": {
    "collapsed": false,
    "pycharm": {
     "name": "#%%\n",
     "is_executing": false
    }
   }
  },
  {
   "cell_type": "code",
   "execution_count": 5,
   "outputs": [
    {
     "name": "stdout",
     "text": [
      "WE ARE FINISHED\ndata dict\n{0: ([-100, -100, -100, -100, 0], (4, 6, 0, 0)), 1: ([-100, 100, -100, -100, 0], (8, 2, 0, 0)), 2: ([-100, 100, -100, 100, 0], (6, 4, 0, 0))}\n"
     ],
     "output_type": "stream"
    },
    {
     "traceback": [
      "\u001b[0;31m---------------------------------------------------------------------------\u001b[0m",
      "\u001b[0;31mNameError\u001b[0m                                 Traceback (most recent call last)",
      "\u001b[0;32m<ipython-input-5-de1a77f5b853>\u001b[0m in \u001b[0;36m<module>\u001b[0;34m\u001b[0m\n\u001b[1;32m      3\u001b[0m \u001b[0mprint\u001b[0m\u001b[0;34m(\u001b[0m\u001b[0mdata_dict\u001b[0m\u001b[0;34m)\u001b[0m\u001b[0;34m\u001b[0m\u001b[0;34m\u001b[0m\u001b[0m\n\u001b[1;32m      4\u001b[0m \u001b[0;34m\u001b[0m\u001b[0m\n\u001b[0;32m----> 5\u001b[0;31m \u001b[0mstamp\u001b[0m \u001b[0;34m=\u001b[0m \u001b[0mstr\u001b[0m\u001b[0;34m(\u001b[0m\u001b[0mdatetime\u001b[0m\u001b[0;34m.\u001b[0m\u001b[0mdatetime\u001b[0m\u001b[0;34m.\u001b[0m\u001b[0mnow\u001b[0m\u001b[0;34m(\u001b[0m\u001b[0;34m)\u001b[0m\u001b[0;34m)\u001b[0m\u001b[0;34m\u001b[0m\u001b[0;34m\u001b[0m\u001b[0m\n\u001b[0m\u001b[1;32m      6\u001b[0m \u001b[0mfilename\u001b[0m \u001b[0;34m=\u001b[0m \u001b[0;34m'Experiment_Data\\\\two_sim_7_deg_'\u001b[0m\u001b[0;34m+\u001b[0m\u001b[0mstamp\u001b[0m\u001b[0;34m+\u001b[0m\u001b[0;34m'.json'\u001b[0m\u001b[0;34m\u001b[0m\u001b[0;34m\u001b[0m\u001b[0m\n\u001b[1;32m      7\u001b[0m \u001b[0;32mwith\u001b[0m \u001b[0mopen\u001b[0m\u001b[0;34m(\u001b[0m\u001b[0mfilename\u001b[0m\u001b[0;34m,\u001b[0m \u001b[0;34m'w'\u001b[0m\u001b[0;34m)\u001b[0m \u001b[0;32mas\u001b[0m \u001b[0mfp\u001b[0m\u001b[0;34m:\u001b[0m\u001b[0;34m\u001b[0m\u001b[0;34m\u001b[0m\u001b[0m\n",
      "\u001b[0;31mNameError\u001b[0m: name 'datetime' is not defined"
     ],
     "ename": "NameError",
     "evalue": "name 'datetime' is not defined",
     "output_type": "error"
    }
   ],
   "source": [
    "print('WE ARE FINISHED')\n",
    "print('data dict')\n",
    "print(data_dict)\n",
    "\n",
    "stamp = str(datetime.datetime.now())\n",
    "filename = 'Experiment_Data\\\\two_sim_7_deg_'+stamp+'.json'\n",
    "with open(filename, 'w') as fp:\n",
    "    json.dump(data_dict, fp)\n"
   ],
   "metadata": {
    "collapsed": false,
    "pycharm": {
     "name": "#%%\n",
     "is_executing": false
    }
   }
  },
  {
   "cell_type": "code",
   "execution_count": null,
   "outputs": [],
   "source": [
    "\n"
   ],
   "metadata": {
    "collapsed": false,
    "pycharm": {
     "name": "#%%\n"
    }
   }
  }
 ],
 "metadata": {
  "kernelspec": {
   "display_name": "Python 3",
   "language": "python",
   "name": "python3"
  },
  "language_info": {
   "codemirror_mode": {
    "name": "ipython",
    "version": 2
   },
   "file_extension": ".py",
   "mimetype": "text/x-python",
   "name": "python",
   "nbconvert_exporter": "python",
   "pygments_lexer": "ipython2",
   "version": "2.7.6"
  },
  "pycharm": {
   "stem_cell": {
    "cell_type": "raw",
    "source": [],
    "metadata": {
     "collapsed": false
    }
   }
  }
 },
 "nbformat": 4,
 "nbformat_minor": 0
}