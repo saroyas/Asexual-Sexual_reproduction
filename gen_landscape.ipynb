{
 "cells": [
  {
   "cell_type": "code",
   "execution_count": 1,
   "metadata": {
    "collapsed": true,
    "pycharm": {
     "is_executing": false
    }
   },
   "outputs": [],
   "source": [
    "import scipy as sp\n",
    "import scipy.interpolate\n",
    "import matplotlib.animation\n",
    "import matplotlib.pyplot as plt\n",
    "import matplotlib.animation\n",
    "import numpy as np\n",
    "import pylab as p\n",
    "import mpl_toolkits.mplot3d.axes3d as p3\n",
    "\n"
   ]
  },
  {
   "cell_type": "code",
   "execution_count": 24,
   "outputs": [],
   "source": [
    "class Landscape2D():\n",
    "    def __init__(self, points_chosen = [], points_fitness_values = []):\n",
    "        self.points_chosen = points_chosen\n",
    "        self.points_fitness_values = points_fitness_values\n",
    "        self.get_points = self.gen_landscape()\n",
    "        \n",
    "    def gen_landscape(self):\n",
    "        #Rbf method is more robust, in that it extrapolates outside the points!\n",
    "        #But we may not really want this tbh, since outside is only implicitily defined\n",
    "        spline = sp.interpolate.Rbf(self.points_chosen[:,0],self.points_chosen[:,1]\n",
    "                                    ,self.points_fitness_values,function='cubic')\n",
    "        return spline\n",
    "    \n",
    "    def draw(self, elevation_deg=80, rotation_deg=-90, mesh = False):\n",
    "        xrange_min, xrange_max = np.min(self.points_chosen[:,0]), np.max(self.points_chosen[:,0])\n",
    "        yrange_min, yrange_max = np.min(self.points_chosen[:,1]), np.max(self.points_chosen[:,1])\n",
    "        grid_x, grid_y = np.mgrid[xrange_min:xrange_max, yrange_min:yrange_max]\n",
    "        #generate the full landscape in that area, sometimes computationally intensive\n",
    "        fitness_grid = self.get_points(grid_x, grid_y)\n",
    "        fig = p.figure()\n",
    "        ax = p3.Axes3D(fig)\n",
    "        if mesh == True:\n",
    "            ax.plot_wireframe(grid_x,grid_y,fitness_grid, color = 'black')\n",
    "        else:\n",
    "            ax.contour3D(grid_x, grid_y, fitness_grid, 50, cmap=plt.cm.viridis)\n",
    "        ax.set_xlabel('loci_0')\n",
    "        ax.set_ylabel('loci_1')\n",
    "        ax.set_zlabel('Fitness')\n",
    "        ax.view_init(elevation_deg, rotation_deg)\n",
    "        p.show()"
   ],
   "metadata": {
    "collapsed": false,
    "pycharm": {
     "name": "#%%\n",
     "is_executing": false
    }
   }
  },
  {
   "cell_type": "code",
   "execution_count": null,
   "outputs": [],
   "source": [
    "\n"
   ],
   "metadata": {
    "collapsed": false,
    "pycharm": {
     "name": "#%%\n"
    }
   }
  }
 ],
 "metadata": {
  "kernelspec": {
   "display_name": "Python 3",
   "language": "python",
   "name": "python3"
  },
  "language_info": {
   "codemirror_mode": {
    "name": "ipython",
    "version": 2
   },
   "file_extension": ".py",
   "mimetype": "text/x-python",
   "name": "python",
   "nbconvert_exporter": "python",
   "pygments_lexer": "ipython2",
   "version": "2.7.6"
  },
  "pycharm": {
   "stem_cell": {
    "cell_type": "raw",
    "source": [],
    "metadata": {
     "collapsed": false
    }
   }
  }
 },
 "nbformat": 4,
 "nbformat_minor": 0
}