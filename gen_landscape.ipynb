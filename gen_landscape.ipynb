{
 "cells": [
  {
   "cell_type": "code",
   "execution_count": 2,
   "outputs": [],
   "source": [
    "import scipy as sp\n",
    "import scipy.interpolate\n",
    "import matplotlib.animation\n",
    "import matplotlib.pyplot as plt\n",
    "import matplotlib.animation\n",
    "import numpy as np\n",
    "import pylab as p\n",
    "import mpl_toolkits.mplot3d.axes3d as p3\n",
    "import plotly.graph_objects as go\n"
   ],
   "metadata": {
    "collapsed": false,
    "pycharm": {
     "name": "#%%\n",
     "is_executing": false
    }
   }
  },
  {
   "cell_type": "code",
   "execution_count": 3,
   "outputs": [],
   "source": [
    "def grid_chosen_points_2D(range=100, resolution=3):\n",
    "    k = complex(0, resolution)\n",
    "    grid_x, grid_y = np.mgrid[-range:range:k, -range:range:k]\n",
    "    points_chosen = np.vstack((grid_x.ravel(), grid_y.ravel())).T\n",
    "    return points_chosen\n",
    "\n",
    "def grid_chosen_points_3D(range=100, resolution=3):\n",
    "    k = complex(0, resolution)\n",
    "    grid_x, grid_y, grid_z = np.mgrid[-range:range:k, -range:range:k, -range:range:k]\n",
    "    points_chosen = np.vstack((grid_x.ravel(), grid_y.ravel(), grid_z.ravel())).T\n",
    "    return points_chosen\n",
    "\n",
    "def gen_rand_uniform(num_rand_points, min=0, max=200):\n",
    "    rand_fitness_array = np.random.randint(min, max, num_rand_points)\n",
    "    return rand_fitness_array"
   ],
   "metadata": {
    "collapsed": false,
    "pycharm": {
     "name": "#%%\n",
     "is_executing": false
    }
   }
  },
  {
   "cell_type": "code",
   "execution_count": 4,
   "outputs": [],
   "source": [
    "class Landscape2D():\n",
    "    def __init__(self, points_chosen=[], points_fitness_values=[], spline=True, rbf_func='multiquadric'):\n",
    "        self.points_chosen = points_chosen\n",
    "        self.points_fitness_values = points_fitness_values\n",
    "        if spline == True:\n",
    "            self.get_points = self.spline_landscape_getter()\n",
    "        else:\n",
    "            self.get_points = self.rbf_landscape_getter(rbf_func)\n",
    "\n",
    "    def rbf_landscape_getter(self, rbf_func):\n",
    "        '''\n",
    "        Rbf method is more robust, in that it extrapolates outside the points!\n",
    "        But we may not really want this tbh, since outside is only implicitily defined\n",
    "        '''\n",
    "        rbf_land = sp.interpolate.Rbf(self.points_chosen[:, 0], self.points_chosen[:, 1]\n",
    "                                      , self.points_fitness_values, function=rbf_func)\n",
    "        return rbf_land\n",
    "\n",
    "    def spline_landscape_getter(self):\n",
    "        spline_land = scipy.interpolate.CloughTocher2DInterpolator(self.points_chosen, self.points_fitness_values)\n",
    "        return spline_land\n",
    "\n",
    "    def draw(self, elevation_deg=80, rotation_deg=-90, mesh=False):\n",
    "        def get_grid_range():\n",
    "            xrange_min, xrange_max = np.min(self.points_chosen[:, 0]), np.max(self.points_chosen[:, 0])\n",
    "            yrange_min, yrange_max = np.min(self.points_chosen[:, 1]), np.max(self.points_chosen[:, 1])\n",
    "            grid_x, grid_y = np.mgrid[xrange_min:xrange_max, yrange_min:yrange_max]\n",
    "            return grid_x, grid_y\n",
    "\n",
    "        grid_x, grid_y = get_grid_range()\n",
    "        # generate the full landscape in that area, sometimes computationally intensive\n",
    "        fitness_grid = self.get_points(grid_x, grid_y)\n",
    "        fig = p.figure()\n",
    "        ax = p3.Axes3D(fig)\n",
    "        if mesh == True:\n",
    "            ax.plot_wireframe(grid_x, grid_y, fitness_grid, color='black')\n",
    "        else:\n",
    "            ax.contour3D(grid_x, grid_y, fitness_grid, 50, cmap=plt.cm.viridis)\n",
    "        ax.set_xlabel('loci_0')\n",
    "        ax.set_ylabel('loci_1')\n",
    "        ax.set_zlabel('Fitness')\n",
    "        ax.view_init(elevation_deg, rotation_deg)\n",
    "        p.show()"
   ],
   "metadata": {
    "collapsed": false,
    "pycharm": {
     "name": "#%%\n",
     "is_executing": false
    }
   }
  },
  {
   "cell_type": "code",
   "execution_count": 5,
   "outputs": [],
   "source": [
    "class Landscape3D():\n",
    "    def __init__(self, points_chosen=[], points_fitness_values=[], rbf_func='multiquadric'):\n",
    "        self.points_chosen = points_chosen\n",
    "        self.points_fitness_values = points_fitness_values\n",
    "        self.get_points = self.rbf_landscape_getter(rbf_func)\n",
    "\n",
    "    def rbf_landscape_getter(self, rbf_func):\n",
    "        '''\n",
    "        Rbf method is more robust, in that it extrapolates outside the points!\n",
    "        But we may not really want this tbh, since outside is only implicitily defined\n",
    "        '''\n",
    "        rbf_land = sp.interpolate.Rbf(self.points_chosen[:, 0], self.points_chosen[:, 1],\n",
    "                                      self.points_chosen[:, 2], self.points_fitness_values, function=rbf_func)\n",
    "        return rbf_land\n",
    "\n",
    "    def draw(self, elevation_deg=80, rotation_deg=-90, resolution=50):\n",
    "        k = complex(0, resolution)\n",
    "        def get_grid_range():\n",
    "            xrange_min, xrange_max = np.min(self.points_chosen[:, 0]), np.max(self.points_chosen[:, 0])\n",
    "            yrange_min, yrange_max = np.min(self.points_chosen[:, 1]), np.max(self.points_chosen[:, 1])\n",
    "            zrange_min, zrange_max = np.min(self.points_chosen[:, 2]), np.max(self.points_chosen[:, 2])\n",
    "            grid_x, grid_y, grid_z = np.mgrid[xrange_min:xrange_max:k, yrange_min:yrange_max:k,zrange_min:zrange_max:k].astype(int)\n",
    "            return grid_x, grid_y, grid_z\n",
    "\n",
    "        grid_x, grid_y, grid_z = get_grid_range()\n",
    "        \n",
    "        # generate the full landscape in that area, sometimes computationally intensive\n",
    "        fitness_grid = np.array(self.get_points(grid_x, grid_y, grid_z)).astype(int)\n",
    "        print(fitness_grid.shape)\n",
    "        '''\n",
    "        fig = go.Figure(data=go.Volume(x=list(grid_x).flatten(),\n",
    "                                       y=list(grid_y).flatten(),\n",
    "                                       z=list(grid_z).flatten(),\n",
    "                                       value=list(fitness_grid).flatten(),\n",
    "                                       isomin=0.1,\n",
    "                                       isomax=0.8,\n",
    "                                       opacity=0.1, # needs to be small to see through all surfaces\n",
    "                                       surface_count=17, # needs to be a large number for good volume rendering\n",
    "                                        ))\n",
    "        fig.show()\n",
    "\n",
    "\n",
    "        fitness_grid = self.get_points(grid_x, grid_y, grid_z)\n",
    "        fig = p.figure()\n",
    "        ax = p3.Axes3D(fig)\n",
    "        ax.contour3D(grid_x, grid_y, fitness_grid, 50, cmap=plt.cm.viridis)\n",
    "        ax.set_xlabel('loci_0')\n",
    "        ax.set_ylabel('loci_1')\n",
    "        ax.set_zlabel('Fitness')\n",
    "        ax.view_init(elevation_deg, rotation_deg)\n",
    "        p.show()\n",
    "        '''\n",
    "\n"
   ],
   "metadata": {
    "collapsed": false,
    "pycharm": {
     "name": "#%%\n",
     "is_executing": false
    }
   }
  },
  {
   "cell_type": "code",
   "execution_count": 9,
   "outputs": [],
   "source": [
    "points_chosen = np.array(grid_chosen_points_3D(20, resolution=3))\n",
    "fit_values = np.array(gen_rand_uniform(3*3*3))\n",
    "land = Landscape3D(points_chosen=points_chosen, points_fitness_values=fit_values)"
   ],
   "metadata": {
    "collapsed": false,
    "pycharm": {
     "name": "#%%\n",
     "is_executing": false
    }
   }
  }
 ],
 "metadata": {
  "kernelspec": {
   "display_name": "Python 3",
   "language": "python",
   "name": "python3"
  },
  "language_info": {
   "codemirror_mode": {
    "name": "ipython",
    "version": 2
   },
   "file_extension": ".py",
   "mimetype": "text/x-python",
   "name": "python",
   "nbconvert_exporter": "python",
   "pygments_lexer": "ipython2",
   "version": "2.7.6"
  },
  "pycharm": {
   "stem_cell": {
    "cell_type": "raw",
    "source": [],
    "metadata": {
     "collapsed": false
    }
   }
  }
 },
 "nbformat": 4,
 "nbformat_minor": 0
}