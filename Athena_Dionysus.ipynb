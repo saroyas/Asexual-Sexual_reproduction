{
 "cells": [
  {
   "cell_type": "code",
   "execution_count": 1,
   "metadata": {
    "collapsed": true,
    "pycharm": {
     "is_executing": false
    }
   },
   "outputs": [],
   "source": [
    "import matplotlib.pyplot as plt\n",
    "import itertools\n",
    "import random\n",
    "import copy\n",
    "import numpy as np\n",
    "import matplotlib\n",
    "import matplotlib.pyplot as plt\n",
    "from scipy.ndimage import convolve\n",
    "from operator import itemgetter\n",
    "from itertools import groupby\n",
    "%matplotlib inline\n",
    "import statistics\n",
    "import math\n"
   ]
  },
  {
   "cell_type": "code",
   "execution_count": null,
   "outputs": [],
   "source": [
    "def fitness_landscape(organism_column):\n",
    "    fitness_value_for_organism = 1\n",
    "    return fitness_value_for_organism\n",
    "\n",
    "class world():\n",
    "    def __init__(self, population_size, loci, gene_mean, gene_sd, proportion_asexual, organism_capacity, asex_repl_ratio, sex_repl_ratio, mutation_prob):\n",
    "        self.population_size = population_size\n",
    "        self.organism_capacity = organism_capacity\n",
    "        self.asex_repl_ratio = asex_repl_ratio\n",
    "        self.sex_repl_ratio = sex_repl_ratio\n",
    "        self.total_pop_mat = (np.random.normal(gene_mean, gene_sd, (loci, self.population_size))).astype(int)\n",
    "        self.separator = int(self.population_size*proportion_asexual) # To indicate where the asex ends and sex begins\n",
    "        self.mutation_prob = mutation_prob\n",
    "    \n",
    "    def population_sizes(self, total = False, asex = False, sex = False):\n",
    "        if total == True:\n",
    "            return self.total_pop_mat.shape[1]\n",
    "        if asex ==True:\n",
    "            return self.asex_pop_mat.shape[1]\n",
    "        if sex == True:\n",
    "            return self.sex_pop_mat.shape[1]\n",
    "        \n",
    "    def mutation_stage(self, step = 1):\n",
    "        shape = self.total_pop_mat.shape\n",
    "        half_liklihood = self.mutation_prob/2, 3\n",
    "        mutation_matrix = np.random.choice([-step, 0, step], size=shape, p=[half_liklihood, 1-self.mutation_prob,half_liklihood])\n",
    "        self.total_pop_mat = self.total_pop_mat + mutation_matrix\n",
    "\n",
    "    def calc_fitness_array(self):\n",
    "        self.fitness_array = np.apply_along_axis(fitness_landscape, 0, self.total_pop_mat)\n",
    "    \n",
    "    def survival_probability(self):\n",
    "        #For now we make survival probability simply proportionate to\n",
    "        #the fitness value. This is fine, and moves all the subtlety to the fitness landscape.\n",
    "        self.calc_fitness_array()\n",
    "        total_fitness = np.sum(self.fitness_array)\n",
    "        prop_fitness = np.divide(self.fitness_array, total_fitness)\n",
    "        return prop_fitness\n",
    "    \n",
    "    def survival_stage(self):\n",
    "        curr_population_index = range(self.population_sizes(total = True))\n",
    "        prop_fitness = self.survival_prob()\n",
    "        #The following step may be a serious computational time issue\n",
    "        survivor_list = np.random.choice(curr_population_index, self.organism_capacity, replace = False, p = prop_fitness)\n",
    "        self.total_pop_mat = (self.total_pop_mat)[:,survivor_list]\n",
    "        self.species_sep_index = np.size(np.where(survivor_list<self.species_sep_index))\n",
    "        \n",
    "        #For efficiencies sake, if we need it in replication stage, we should consider\n",
    "        # updating the fitness array here, and so not calculating it in the replication stage\n",
    "        #but currently replication isn't dependent on fitness\n",
    "        #self.fitness_array = self.fitness_array[survivor_list]\n",
    "        \n",
    "    def gen_sex_asex_matrices(self):\n",
    "        self.asex_pop_mat = self.total_pop_mat[:, :self.species_sep_index]\n",
    "        self.sex_pop_mat = self.total_pop_mat[:, self.species_sep_index:]\n",
    "    \n",
    "    def asex_replication_stage(self):\n",
    "        current_organism_index = np.arange(self.species_sep_index)\n",
    "        next_gen_size = int(self.species_sep_index*self.asex_repl_ratio)\n",
    "        next_gen_chosen = np.random.choice(current_organism_index, size = next_gen_size, replace = True)\n",
    "        self.asex_pop_mat = self.asex_pop_mat[:, next_gen_chosen]   \n",
    "        \n",
    "    def sexual_replication(self):\n",
    "        total_sex_pop = self.population_sizes(sex=True)\n",
    "        current_organism_index = np.arange(total_sex_pop)\n",
    "        next_gen_size = int(total_sex_pop*self.sex_repl_ratio)\n",
    "        def chosen_pairs():\n",
    "            rounds = int(2*next_gen_size/total_sex_pop) + 1\n",
    "            mating_pairs = []\n",
    "            for round in rounds:\n",
    "                np.random.shuffle(current_organism_index)\n",
    "                pairs = zip(current_organism_index[::2], current_organism_index[1::2])\n",
    "                mating_pairs += pairs\n",
    "            return mating_pairs[:next_gen_size]\n",
    "        chosen_pairs = chosen_pairs()\n",
    "        def mate_pairs():\n",
    "            \n",
    "        \n",
    "    \n",
    "    def replication_stage(self):\n",
    "        self.gen_sex_asex_matrices()\n",
    "        self.asex_replication_stage()\n",
    "        \n",
    "        "
   ],
   "metadata": {
    "collapsed": false,
    "pycharm": {
     "name": "#%%\n"
    }
   }
  }
 ],
 "metadata": {
  "kernelspec": {
   "display_name": "Python 3",
   "language": "python",
   "name": "python3"
  },
  "language_info": {
   "codemirror_mode": {
    "name": "ipython",
    "version": 2
   },
   "file_extension": ".py",
   "mimetype": "text/x-python",
   "name": "python",
   "nbconvert_exporter": "python",
   "pygments_lexer": "ipython2",
   "version": "2.7.6"
  },
  "pycharm": {
   "stem_cell": {
    "cell_type": "raw",
    "source": [],
    "metadata": {
     "collapsed": false
    }
   }
  }
 },
 "nbformat": 4,
 "nbformat_minor": 0
}